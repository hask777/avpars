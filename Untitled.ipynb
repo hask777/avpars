{
 "cells": [
  {
   "cell_type": "code",
   "execution_count": 5,
   "id": "417ece50",
   "metadata": {},
   "outputs": [],
   "source": [
    "import pandas as pd\n",
    "import numpy as np\n",
    "import matplotlib.pyplot as plt\n",
    "%matplotlib inline\n",
    "import seaborn as sns\n",
    "import json\n",
    "## Display all the columns of the dataframe\n",
    "pd.pandas.set_option('display.max_columns',None)"
   ]
  },
  {
   "cell_type": "code",
   "execution_count": 6,
   "id": "fd26ba8c",
   "metadata": {},
   "outputs": [],
   "source": [
    "df = pd.read_json(\"cars.json\")\n"
   ]
  },
  {
   "cell_type": "code",
   "execution_count": 7,
   "id": "006ae69b",
   "metadata": {},
   "outputs": [
    {
     "output_type": "stream",
     "name": "stdout",
     "text": [
      "(2592, 12)\n"
     ]
    }
   ],
   "source": [
    "## print shape of dataset with rows and columns\n",
    "print(df.shape)"
   ]
  },
  {
   "cell_type": "code",
   "execution_count": 8,
   "id": "bbb381a6",
   "metadata": {},
   "outputs": [
    {
     "output_type": "execute_result",
     "data": {
      "text/plain": [
       "   id                                              image  \\\n",
       "0   1  https://avcdn.av.by/advertpreview/0000/2758/89...   \n",
       "1   2  https://avcdn.av.by/advertpreview/0000/2757/52...   \n",
       "2   3  https://avcdn.av.by/advertpreview/0000/2395/48...   \n",
       "3   4  https://avcdn.av.by/advertpreview/0000/2752/95...   \n",
       "4   5  https://avcdn.av.by/advertpreview/0000/2695/74...   \n",
       "\n",
       "                                  title  \\\n",
       "0  Peugeot 806 221 · Рестайлинг, 5 мест   \n",
       "1                        Peugeot 308 T9   \n",
       "2                         Peugeot 307 I   \n",
       "3                           Peugeot 405   \n",
       "4                        Peugeot 308 T9   \n",
       "\n",
       "                                     params  year  volume  engine transmision  \\\n",
       "0  1999 г.механика, 2.0 л, бензин417 000 км  1999     2.0  бензин    механика   \n",
       "1  2017 г.механика, 1.6 л, дизель169 000 км  2017     1.6  дизель    механика   \n",
       "2  2004 г.механика, 2.0 л, бензин307 000 км  2004     2.0  бензин    механика   \n",
       "3  1996 г.механика, 1.9 л, дизель164 000 км  1996     1.9  дизель    механика   \n",
       "4  2016 г.механика, 1.6 л, дизель152 000 км  2016     1.6  дизель    механика   \n",
       "\n",
       "    miles                    link  price_ru  price_usd  \n",
       "0  417000  /peugeot/806/100364736      6465       2550  \n",
       "1  169000  /peugeot/308/100364469     30171      11900  \n",
       "2  307000  /peugeot/307/100308405      9761       3850  \n",
       "3  164000  /peugeot/405/100363723      2026          0  \n",
       "4  152000  /peugeot/308/100356750     27889      11000  "
      ],
      "text/html": "<div>\n<style scoped>\n    .dataframe tbody tr th:only-of-type {\n        vertical-align: middle;\n    }\n\n    .dataframe tbody tr th {\n        vertical-align: top;\n    }\n\n    .dataframe thead th {\n        text-align: right;\n    }\n</style>\n<table border=\"1\" class=\"dataframe\">\n  <thead>\n    <tr style=\"text-align: right;\">\n      <th></th>\n      <th>id</th>\n      <th>image</th>\n      <th>title</th>\n      <th>params</th>\n      <th>year</th>\n      <th>volume</th>\n      <th>engine</th>\n      <th>transmision</th>\n      <th>miles</th>\n      <th>link</th>\n      <th>price_ru</th>\n      <th>price_usd</th>\n    </tr>\n  </thead>\n  <tbody>\n    <tr>\n      <th>0</th>\n      <td>1</td>\n      <td>https://avcdn.av.by/advertpreview/0000/2758/89...</td>\n      <td>Peugeot 806 221 · Рестайлинг, 5 мест</td>\n      <td>1999 г.механика, 2.0 л, бензин417 000 км</td>\n      <td>1999</td>\n      <td>2.0</td>\n      <td>бензин</td>\n      <td>механика</td>\n      <td>417000</td>\n      <td>/peugeot/806/100364736</td>\n      <td>6465</td>\n      <td>2550</td>\n    </tr>\n    <tr>\n      <th>1</th>\n      <td>2</td>\n      <td>https://avcdn.av.by/advertpreview/0000/2757/52...</td>\n      <td>Peugeot 308 T9</td>\n      <td>2017 г.механика, 1.6 л, дизель169 000 км</td>\n      <td>2017</td>\n      <td>1.6</td>\n      <td>дизель</td>\n      <td>механика</td>\n      <td>169000</td>\n      <td>/peugeot/308/100364469</td>\n      <td>30171</td>\n      <td>11900</td>\n    </tr>\n    <tr>\n      <th>2</th>\n      <td>3</td>\n      <td>https://avcdn.av.by/advertpreview/0000/2395/48...</td>\n      <td>Peugeot 307 I</td>\n      <td>2004 г.механика, 2.0 л, бензин307 000 км</td>\n      <td>2004</td>\n      <td>2.0</td>\n      <td>бензин</td>\n      <td>механика</td>\n      <td>307000</td>\n      <td>/peugeot/307/100308405</td>\n      <td>9761</td>\n      <td>3850</td>\n    </tr>\n    <tr>\n      <th>3</th>\n      <td>4</td>\n      <td>https://avcdn.av.by/advertpreview/0000/2752/95...</td>\n      <td>Peugeot 405</td>\n      <td>1996 г.механика, 1.9 л, дизель164 000 км</td>\n      <td>1996</td>\n      <td>1.9</td>\n      <td>дизель</td>\n      <td>механика</td>\n      <td>164000</td>\n      <td>/peugeot/405/100363723</td>\n      <td>2026</td>\n      <td>0</td>\n    </tr>\n    <tr>\n      <th>4</th>\n      <td>5</td>\n      <td>https://avcdn.av.by/advertpreview/0000/2695/74...</td>\n      <td>Peugeot 308 T9</td>\n      <td>2016 г.механика, 1.6 л, дизель152 000 км</td>\n      <td>2016</td>\n      <td>1.6</td>\n      <td>дизель</td>\n      <td>механика</td>\n      <td>152000</td>\n      <td>/peugeot/308/100356750</td>\n      <td>27889</td>\n      <td>11000</td>\n    </tr>\n  </tbody>\n</table>\n</div>"
     },
     "metadata": {},
     "execution_count": 8
    }
   ],
   "source": [
    "## print the top5 records\n",
    "df.head()\n"
   ]
  },
  {
   "cell_type": "code",
   "execution_count": 9,
   "id": "05f9784b",
   "metadata": {},
   "outputs": [
    {
     "output_type": "execute_result",
     "data": {
      "text/plain": [
       "0       1999\n",
       "1       2017\n",
       "2       2004\n",
       "3       1996\n",
       "4       2016\n",
       "        ... \n",
       "2587    2011\n",
       "2588    2012\n",
       "2589    2010\n",
       "2590    2008\n",
       "2591    1997\n",
       "Name: year, Length: 2592, dtype: int64"
      ]
     },
     "metadata": {},
     "execution_count": 9
    }
   ],
   "source": [
    "df['year']"
   ]
  },
  {
   "cell_type": "code",
   "execution_count": 10,
   "id": "f6c2dec7",
   "metadata": {},
   "outputs": [
    {
     "output_type": "execute_result",
     "data": {
      "text/plain": [
       "597"
      ]
     },
     "metadata": {},
     "execution_count": 10
    }
   ],
   "source": [
    "df.query('volume == 2.0').year.count()"
   ]
  },
  {
   "cell_type": "code",
   "execution_count": 11,
   "id": "1bdddd60",
   "metadata": {},
   "outputs": [
    {
     "output_type": "execute_result",
     "data": {
      "text/plain": [
       "array([1999, 2017, 2004, 1996, 2016, 2001, 2011, 2006, 1993, 2010, 2008,\n",
       "       1991, 1997, 1992, 2009, 2002, 1998, 2012, 2015, 2018, 2000, 1995,\n",
       "       1994, 2005, 2003, 2007, 2013, 1990, 2019, 2014, 1988, 1983, 1986,\n",
       "       1987, 1989, 2021, 2020], dtype=int64)"
      ]
     },
     "metadata": {},
     "execution_count": 11
    }
   ],
   "source": [
    "vol = df['year'].unique()\n",
    "vol"
   ]
  },
  {
   "cell_type": "code",
   "execution_count": 12,
   "id": "2b3b8d9c",
   "metadata": {},
   "outputs": [
    {
     "output_type": "stream",
     "name": "stdout",
     "text": [
      "[{'car_year': 2021, 'car_count': 1}, {'car_year': 2020, 'car_count': 1}, {'car_year': 2019, 'car_count': 1}, {'car_year': 2018, 'car_count': 12}, {'car_year': 2017, 'car_count': 45}, {'car_year': 2016, 'car_count': 71}, {'car_year': 2015, 'car_count': 42}, {'car_year': 2014, 'car_count': 27}, {'car_year': 2013, 'car_count': 47}, {'car_year': 2012, 'car_count': 66}, {'car_year': 2011, 'car_count': 105}, {'car_year': 2010, 'car_count': 143}, {'car_year': 2009, 'car_count': 100}, {'car_year': 2008, 'car_count': 177}, {'car_year': 2007, 'car_count': 96}, {'car_year': 2006, 'car_count': 105}, {'car_year': 2005, 'car_count': 84}, {'car_year': 2004, 'car_count': 127}, {'car_year': 2003, 'car_count': 108}, {'car_year': 2002, 'car_count': 140}, {'car_year': 2001, 'car_count': 147}, {'car_year': 2000, 'car_count': 155}, {'car_year': 1999, 'car_count': 159}, {'car_year': 1998, 'car_count': 176}, {'car_year': 1997, 'car_count': 133}, {'car_year': 1996, 'car_count': 103}, {'car_year': 1995, 'car_count': 53}, {'car_year': 1994, 'car_count': 45}, {'car_year': 1993, 'car_count': 47}, {'car_year': 1992, 'car_count': 34}, {'car_year': 1991, 'car_count': 27}, {'car_year': 1990, 'car_count': 7}, {'car_year': 1989, 'car_count': 1}, {'car_year': 1988, 'car_count': 3}, {'car_year': 1987, 'car_count': 2}, {'car_year': 1986, 'car_count': 1}, {'car_year': 1983, 'car_count': 1}]\n"
     ]
    },
    {
     "output_type": "error",
     "ename": "NameError",
     "evalue": "name 'json' is not defined",
     "traceback": [
      "\u001b[1;31m---------------------------------------------------------------------------\u001b[0m",
      "\u001b[1;31mNameError\u001b[0m                                 Traceback (most recent call last)",
      "\u001b[1;32m<ipython-input-12-a398d80d77d7>\u001b[0m in \u001b[0;36m<module>\u001b[1;34m\u001b[0m\n\u001b[0;32m     36\u001b[0m \u001b[0mcars\u001b[0m \u001b[1;33m=\u001b[0m \u001b[1;34m\"stat.json\"\u001b[0m\u001b[1;33m\u001b[0m\u001b[1;33m\u001b[0m\u001b[0m\n\u001b[0;32m     37\u001b[0m \u001b[1;32mwith\u001b[0m \u001b[0mopen\u001b[0m\u001b[1;33m(\u001b[0m\u001b[0mcars\u001b[0m\u001b[1;33m,\u001b[0m \u001b[1;34m'w'\u001b[0m\u001b[1;33m,\u001b[0m \u001b[0mencoding\u001b[0m\u001b[1;33m=\u001b[0m\u001b[1;34m'utf-8'\u001b[0m\u001b[1;33m)\u001b[0m \u001b[1;32mas\u001b[0m \u001b[0mjson_file\u001b[0m\u001b[1;33m:\u001b[0m\u001b[1;33m\u001b[0m\u001b[1;33m\u001b[0m\u001b[0m\n\u001b[1;32m---> 38\u001b[1;33m     \u001b[0mjson\u001b[0m\u001b[1;33m.\u001b[0m\u001b[0mdump\u001b[0m\u001b[1;33m(\u001b[0m\u001b[0mlist1\u001b[0m\u001b[1;33m,\u001b[0m \u001b[0mjson_file\u001b[0m\u001b[1;33m,\u001b[0m \u001b[0mensure_ascii\u001b[0m \u001b[1;33m=\u001b[0m \u001b[1;32mFalse\u001b[0m\u001b[1;33m,\u001b[0m \u001b[0mindent\u001b[0m \u001b[1;33m=\u001b[0m\u001b[1;36m4\u001b[0m\u001b[1;33m)\u001b[0m\u001b[1;33m\u001b[0m\u001b[1;33m\u001b[0m\u001b[0m\n\u001b[0m\u001b[0;32m     39\u001b[0m \u001b[1;33m\u001b[0m\u001b[0m\n",
      "\u001b[1;31mNameError\u001b[0m: name 'json' is not defined"
     ]
    }
   ],
   "source": [
    "array = []\n",
    "dicty = {}\n",
    "final = {}\n",
    "for car_year in vol:\n",
    "#     print(year)\n",
    "    car_count = df.query( 'year == {}'.format(car_year) ).year.count()\n",
    "\n",
    "#     dict[f'{item}'] = count\n",
    "    \n",
    "    dicty = {\n",
    "        'car_year': int(car_year),\n",
    "        'car_count': car_count\n",
    "    }\n",
    "    \n",
    "    array.append(dicty)\n",
    "final['cars'] = array\n",
    "# print(final.items())\n",
    "#     array['year'] = dicty\n",
    "# print(array)\n",
    "# sorted_dict = sorted(fina.items(), key=lambda item: item[1], reverse=True) \n",
    "# sorted_dict\n",
    "# print(sorted_dict)\n",
    "# {key: value for key, value in sorted(final.items(), key=lambda item: item[0])}\n",
    "\n",
    "def get_cars_stat(car):   \n",
    "    knockOuts = car['car_year']\n",
    "\n",
    "#     if type(knockOuts) != int:\n",
    "#         knockOuts = 1\n",
    "\n",
    "    return knockOuts\n",
    "\n",
    "list1 = sorted(array, key=get_cars_stat, reverse=True)\n",
    "print(list1)\n",
    "\n",
    "cars = \"stat.json\"\n",
    "with open(cars, 'w', encoding='utf-8') as json_file:\n",
    "    json.dump(list1, json_file, ensure_ascii = False, indent =4)\n",
    "    "
   ]
  },
  {
   "cell_type": "code",
   "execution_count": 386,
   "id": "197d51b6",
   "metadata": {},
   "outputs": [],
   "source": [
    "df_car = pd.DataFrame(list1, columns=['car_year', 'car_count'])"
   ]
  },
  {
   "cell_type": "code",
   "execution_count": 387,
   "id": "5b8bae32",
   "metadata": {},
   "outputs": [
    {
     "data": {
      "text/html": [
       "<div>\n",
       "<style scoped>\n",
       "    .dataframe tbody tr th:only-of-type {\n",
       "        vertical-align: middle;\n",
       "    }\n",
       "\n",
       "    .dataframe tbody tr th {\n",
       "        vertical-align: top;\n",
       "    }\n",
       "\n",
       "    .dataframe thead th {\n",
       "        text-align: right;\n",
       "    }\n",
       "</style>\n",
       "<table border=\"1\" class=\"dataframe\">\n",
       "  <thead>\n",
       "    <tr style=\"text-align: right;\">\n",
       "      <th></th>\n",
       "      <th>car_year</th>\n",
       "      <th>car_count</th>\n",
       "    </tr>\n",
       "  </thead>\n",
       "  <tbody>\n",
       "    <tr>\n",
       "      <th>count</th>\n",
       "      <td>37.000000</td>\n",
       "      <td>37.000000</td>\n",
       "    </tr>\n",
       "    <tr>\n",
       "      <th>mean</th>\n",
       "      <td>2002.945946</td>\n",
       "      <td>70.216216</td>\n",
       "    </tr>\n",
       "    <tr>\n",
       "      <th>std</th>\n",
       "      <td>10.921299</td>\n",
       "      <td>58.180340</td>\n",
       "    </tr>\n",
       "    <tr>\n",
       "      <th>min</th>\n",
       "      <td>1983.000000</td>\n",
       "      <td>1.000000</td>\n",
       "    </tr>\n",
       "    <tr>\n",
       "      <th>25%</th>\n",
       "      <td>1994.000000</td>\n",
       "      <td>10.000000</td>\n",
       "    </tr>\n",
       "    <tr>\n",
       "      <th>50%</th>\n",
       "      <td>2003.000000</td>\n",
       "      <td>57.000000</td>\n",
       "    </tr>\n",
       "    <tr>\n",
       "      <th>75%</th>\n",
       "      <td>2012.000000</td>\n",
       "      <td>115.000000</td>\n",
       "    </tr>\n",
       "    <tr>\n",
       "      <th>max</th>\n",
       "      <td>2021.000000</td>\n",
       "      <td>179.000000</td>\n",
       "    </tr>\n",
       "  </tbody>\n",
       "</table>\n",
       "</div>"
      ],
      "text/plain": [
       "          car_year   car_count\n",
       "count    37.000000   37.000000\n",
       "mean   2002.945946   70.216216\n",
       "std      10.921299   58.180340\n",
       "min    1983.000000    1.000000\n",
       "25%    1994.000000   10.000000\n",
       "50%    2003.000000   57.000000\n",
       "75%    2012.000000  115.000000\n",
       "max    2021.000000  179.000000"
      ]
     },
     "execution_count": 387,
     "metadata": {},
     "output_type": "execute_result"
    }
   ],
   "source": [
    "df_car.describe()"
   ]
  },
  {
   "cell_type": "code",
   "execution_count": 388,
   "id": "667d77da",
   "metadata": {},
   "outputs": [
    {
     "data": {
      "text/html": [
       "<div>\n",
       "<style scoped>\n",
       "    .dataframe tbody tr th:only-of-type {\n",
       "        vertical-align: middle;\n",
       "    }\n",
       "\n",
       "    .dataframe tbody tr th {\n",
       "        vertical-align: top;\n",
       "    }\n",
       "\n",
       "    .dataframe thead th {\n",
       "        text-align: right;\n",
       "    }\n",
       "</style>\n",
       "<table border=\"1\" class=\"dataframe\">\n",
       "  <thead>\n",
       "    <tr style=\"text-align: right;\">\n",
       "      <th></th>\n",
       "      <th>car_year</th>\n",
       "      <th>car_count</th>\n",
       "    </tr>\n",
       "  </thead>\n",
       "  <tbody>\n",
       "    <tr>\n",
       "      <th>0</th>\n",
       "      <td>2021</td>\n",
       "      <td>1</td>\n",
       "    </tr>\n",
       "    <tr>\n",
       "      <th>1</th>\n",
       "      <td>2020</td>\n",
       "      <td>1</td>\n",
       "    </tr>\n",
       "    <tr>\n",
       "      <th>2</th>\n",
       "      <td>2019</td>\n",
       "      <td>1</td>\n",
       "    </tr>\n",
       "    <tr>\n",
       "      <th>3</th>\n",
       "      <td>2018</td>\n",
       "      <td>10</td>\n",
       "    </tr>\n",
       "    <tr>\n",
       "      <th>4</th>\n",
       "      <td>2017</td>\n",
       "      <td>45</td>\n",
       "    </tr>\n",
       "    <tr>\n",
       "      <th>5</th>\n",
       "      <td>2016</td>\n",
       "      <td>71</td>\n",
       "    </tr>\n",
       "    <tr>\n",
       "      <th>6</th>\n",
       "      <td>2015</td>\n",
       "      <td>47</td>\n",
       "    </tr>\n",
       "    <tr>\n",
       "      <th>7</th>\n",
       "      <td>2014</td>\n",
       "      <td>27</td>\n",
       "    </tr>\n",
       "  </tbody>\n",
       "</table>\n",
       "</div>"
      ],
      "text/plain": [
       "   car_year  car_count\n",
       "0      2021          1\n",
       "1      2020          1\n",
       "2      2019          1\n",
       "3      2018         10\n",
       "4      2017         45\n",
       "5      2016         71\n",
       "6      2015         47\n",
       "7      2014         27"
      ]
     },
     "execution_count": 388,
     "metadata": {},
     "output_type": "execute_result"
    }
   ],
   "source": [
    "top8=df_car.head(8)\n",
    "top8"
   ]
  },
  {
   "cell_type": "code",
   "execution_count": 389,
   "id": "73c39373",
   "metadata": {},
   "outputs": [
    {
     "data": {
      "image/png": "[encoded data removed]",
      "text/plain": [
       "<Figure size 720x432 with 1 Axes>"
      ]
     },
     "metadata": {
      "needs_background": "light"
     },
     "output_type": "display_data"
    }
   ],
   "source": [
    "car_plot = df_car.plot.bar(x=\"car_year\", y=\"car_count\", figsize=(10,6), fontsize=(14))"
   ]
  },
  {
   "cell_type": "code",
   "execution_count": null,
   "id": "6d3e5bbd",
   "metadata": {},
   "outputs": [],
   "source": []
  }
 ],
 "metadata": {
  "kernelspec": {
   "name": "python395jvsc74a57bd00681a2315baca8608118f946a260648f81a2d5d82ec2a2f89c40384b1b1b82bc",
   "display_name": "Python 3.9.5 64-bit"
  },
  "language_info": {
   "codemirror_mode": {
    "name": "ipython",
    "version": 3
   },
   "file_extension": ".py",
   "mimetype": "text/x-python",
   "name": "python",
   "nbconvert_exporter": "python",
   "pygments_lexer": "ipython3",
   "version": "3.9.5"
  },
  "metadata": {
   "interpreter": {
    "hash": "0681a2315baca8608118f946a260648f81a2d5d82ec2a2f89c40384b1b1b82bc"
   }
  }
 },
 "nbformat": 4,
 "nbformat_minor": 5
}