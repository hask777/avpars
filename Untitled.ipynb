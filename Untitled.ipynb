{
 "cells": [
  {
   "cell_type": "code",
   "execution_count": 63,
   "metadata": {},
   "outputs": [],
   "source": [
    "import pandas as pd\n",
    "import requests\n",
    "import matplotlib.pyplot as plt"
   ]
  },
  {
   "cell_type": "code",
   "execution_count": 64,
   "metadata": {},
   "outputs": [],
   "source": [
    "cars = pd.read_json(\"cars.json\")"
   ]
  },
  {
   "cell_type": "raw",
   "metadata": {},
   "source": [
    "cars"
   ]
  },
  {
   "cell_type": "code",
   "execution_count": 65,
   "metadata": {},
   "outputs": [],
   "source": [
    "df = pd.DataFrame(cars)"
   ]
  },
  {
   "cell_type": "code",
   "execution_count": 66,
   "metadata": {},
   "outputs": [
    {
     "data": {
      "text/html": [
       "<div>\n",
       "<style scoped>\n",
       "    .dataframe tbody tr th:only-of-type {\n",
       "        vertical-align: middle;\n",
       "    }\n",
       "\n",
       "    .dataframe tbody tr th {\n",
       "        vertical-align: top;\n",
       "    }\n",
       "\n",
       "    .dataframe thead th {\n",
       "        text-align: right;\n",
       "    }\n",
       "</style>\n",
       "<table border=\"1\" class=\"dataframe\">\n",
       "  <thead>\n",
       "    <tr style=\"text-align: right;\">\n",
       "      <th></th>\n",
       "      <th>image</th>\n",
       "      <th>title</th>\n",
       "      <th>params</th>\n",
       "      <th>link</th>\n",
       "      <th>price_ru</th>\n",
       "      <th>price_usd</th>\n",
       "    </tr>\n",
       "  </thead>\n",
       "  <tbody>\n",
       "    <tr>\n",
       "      <th>0</th>\n",
       "      <td>https://avcdn.av.by/advertpreview/0000/2602/78...</td>\n",
       "      <td>Acura ZDX</td>\n",
       "      <td>[2010, г.автомат,, 3.7, л,, бензин, (пропан-бу...</td>\n",
       "      <td>/acura/zdx/100332685</td>\n",
       "      <td>51229</td>\n",
       "      <td>19999</td>\n",
       "    </tr>\n",
       "    <tr>\n",
       "      <th>1</th>\n",
       "      <td>https://avcdn.av.by/advertpreview/0000/2347/92...</td>\n",
       "      <td>Acura TSX I</td>\n",
       "      <td>[2004, г.автомат,, 2.4, л,, бензин211, 000, км]</td>\n",
       "      <td>/acura/tsx/100299075</td>\n",
       "      <td>14089</td>\n",
       "      <td>5500</td>\n",
       "    </tr>\n",
       "    <tr>\n",
       "      <th>2</th>\n",
       "      <td>https://avcdn.av.by/advertpreview/0000/2586/02...</td>\n",
       "      <td>Acura MDX I, 7 мест</td>\n",
       "      <td>[2005, г.автомат,, 3.5, л,, бензин323, 477, км]</td>\n",
       "      <td>/acura/mdx/100338680</td>\n",
       "      <td>14089</td>\n",
       "      <td>5500</td>\n",
       "    </tr>\n",
       "    <tr>\n",
       "      <th>3</th>\n",
       "      <td>https://avcdn.av.by/advertpreview/0000/0697/45...</td>\n",
       "      <td>Acura ZDX</td>\n",
       "      <td>[2010, г.автомат,, 3.7, л,, бензин111, 440, км]</td>\n",
       "      <td>/acura/zdx/100008986</td>\n",
       "      <td>40215</td>\n",
       "      <td>15699</td>\n",
       "    </tr>\n",
       "    <tr>\n",
       "      <th>4</th>\n",
       "      <td>https://static.av.by/public_images/preview/020...</td>\n",
       "      <td>Acura RDX I · Рестайлинг</td>\n",
       "      <td>[2009, г.автомат,, 2.3, л,, бензин140, 000, км]</td>\n",
       "      <td>/acura/rdx/20169771</td>\n",
       "      <td>21774</td>\n",
       "      <td>8500</td>\n",
       "    </tr>\n",
       "    <tr>\n",
       "      <th>...</th>\n",
       "      <td>...</td>\n",
       "      <td>...</td>\n",
       "      <td>...</td>\n",
       "      <td>...</td>\n",
       "      <td>...</td>\n",
       "      <td>...</td>\n",
       "    </tr>\n",
       "    <tr>\n",
       "      <th>93</th>\n",
       "      <td>https://avcdn.av.by/advertpreview/0000/2353/68...</td>\n",
       "      <td>Acura TL III</td>\n",
       "      <td>[2004, г.автомат,, 3.2, л,, бензин247, 000, км]</td>\n",
       "      <td>/acura/tl/100066281</td>\n",
       "      <td>10246</td>\n",
       "      <td>4000</td>\n",
       "    </tr>\n",
       "    <tr>\n",
       "      <th>94</th>\n",
       "      <td>https://static.av.by/public_images/preview/017...</td>\n",
       "      <td>Acura MDX II, 7 мест</td>\n",
       "      <td>[2008, г.автомат,, 3.7, л,, бензин177, 027, км]</td>\n",
       "      <td>/acura/mdx/17452844</td>\n",
       "      <td>29458</td>\n",
       "      <td>11500</td>\n",
       "    </tr>\n",
       "    <tr>\n",
       "      <th>95</th>\n",
       "      <td>https://static.av.by/public_images/preview/016...</td>\n",
       "      <td>Acura MDX III, 7 мест</td>\n",
       "      <td>[2014, г.автомат,, 3.5, л,, бензин154, 000, км]</td>\n",
       "      <td>/acura/mdx/16147815</td>\n",
       "      <td>63784</td>\n",
       "      <td>24900</td>\n",
       "    </tr>\n",
       "    <tr>\n",
       "      <th>96</th>\n",
       "      <td>https://avcdn.av.by/advertpreview/0000/2629/78...</td>\n",
       "      <td>Acura TLX</td>\n",
       "      <td>[2014, г.автомат,, 2.4, л,, бензин178, 637, км]</td>\n",
       "      <td>/acura/tlx/18191215</td>\n",
       "      <td>43291</td>\n",
       "      <td>16900</td>\n",
       "    </tr>\n",
       "    <tr>\n",
       "      <th>97</th>\n",
       "      <td>https://static.av.by/public_images/preview/018...</td>\n",
       "      <td>Acura TLX</td>\n",
       "      <td>[2014, г.автомат,, 2.4, л,, бензин80, 467, км]</td>\n",
       "      <td>/acura/tlx/18647523</td>\n",
       "      <td>42779</td>\n",
       "      <td>16700</td>\n",
       "    </tr>\n",
       "  </tbody>\n",
       "</table>\n",
       "<p>98 rows × 6 columns</p>\n",
       "</div>"
      ],
      "text/plain": [
       "                                                image  \\\n",
       "0   https://avcdn.av.by/advertpreview/0000/2602/78...   \n",
       "1   https://avcdn.av.by/advertpreview/0000/2347/92...   \n",
       "2   https://avcdn.av.by/advertpreview/0000/2586/02...   \n",
       "3   https://avcdn.av.by/advertpreview/0000/0697/45...   \n",
       "4   https://static.av.by/public_images/preview/020...   \n",
       "..                                                ...   \n",
       "93  https://avcdn.av.by/advertpreview/0000/2353/68...   \n",
       "94  https://static.av.by/public_images/preview/017...   \n",
       "95  https://static.av.by/public_images/preview/016...   \n",
       "96  https://avcdn.av.by/advertpreview/0000/2629/78...   \n",
       "97  https://static.av.by/public_images/preview/018...   \n",
       "\n",
       "                       title  \\\n",
       "0                  Acura ZDX   \n",
       "1                Acura TSX I   \n",
       "2        Acura MDX I, 7 мест   \n",
       "3                  Acura ZDX   \n",
       "4   Acura RDX I · Рестайлинг   \n",
       "..                       ...   \n",
       "93              Acura TL III   \n",
       "94      Acura MDX II, 7 мест   \n",
       "95     Acura MDX III, 7 мест   \n",
       "96                 Acura TLX   \n",
       "97                 Acura TLX   \n",
       "\n",
       "                                               params                  link  \\\n",
       "0   [2010, г.автомат,, 3.7, л,, бензин, (пропан-бу...  /acura/zdx/100332685   \n",
       "1     [2004, г.автомат,, 2.4, л,, бензин211, 000, км]  /acura/tsx/100299075   \n",
       "2     [2005, г.автомат,, 3.5, л,, бензин323, 477, км]  /acura/mdx/100338680   \n",
       "3     [2010, г.автомат,, 3.7, л,, бензин111, 440, км]  /acura/zdx/100008986   \n",
       "4     [2009, г.автомат,, 2.3, л,, бензин140, 000, км]   /acura/rdx/20169771   \n",
       "..                                                ...                   ...   \n",
       "93    [2004, г.автомат,, 3.2, л,, бензин247, 000, км]   /acura/tl/100066281   \n",
       "94    [2008, г.автомат,, 3.7, л,, бензин177, 027, км]   /acura/mdx/17452844   \n",
       "95    [2014, г.автомат,, 3.5, л,, бензин154, 000, км]   /acura/mdx/16147815   \n",
       "96    [2014, г.автомат,, 2.4, л,, бензин178, 637, км]   /acura/tlx/18191215   \n",
       "97     [2014, г.автомат,, 2.4, л,, бензин80, 467, км]   /acura/tlx/18647523   \n",
       "\n",
       "    price_ru  price_usd  \n",
       "0      51229      19999  \n",
       "1      14089       5500  \n",
       "2      14089       5500  \n",
       "3      40215      15699  \n",
       "4      21774       8500  \n",
       "..       ...        ...  \n",
       "93     10246       4000  \n",
       "94     29458      11500  \n",
       "95     63784      24900  \n",
       "96     43291      16900  \n",
       "97     42779      16700  \n",
       "\n",
       "[98 rows x 6 columns]"
      ]
     },
     "execution_count": 66,
     "metadata": {},
     "output_type": "execute_result"
    }
   ],
   "source": [
    "df"
   ]
  },
  {
   "cell_type": "code",
   "execution_count": 67,
   "metadata": {},
   "outputs": [
    {
     "data": {
      "text/plain": [
       "0     19999\n",
       "1      5500\n",
       "2      5500\n",
       "3     15699\n",
       "4      8500\n",
       "      ...  \n",
       "93     4000\n",
       "94    11500\n",
       "95    24900\n",
       "96    16900\n",
       "97    16700\n",
       "Name: price_usd, Length: 98, dtype: int64"
      ]
     },
     "execution_count": 67,
     "metadata": {},
     "output_type": "execute_result"
    }
   ],
   "source": [
    "df['price_usd']"
   ]
  },
  {
   "cell_type": "code",
   "execution_count": 68,
   "metadata": {},
   "outputs": [
    {
     "data": {
      "text/plain": [
       "44250"
      ]
     },
     "execution_count": 68,
     "metadata": {},
     "output_type": "execute_result"
    }
   ],
   "source": [
    "df['price_usd'].max()"
   ]
  },
  {
   "cell_type": "code",
   "execution_count": 69,
   "metadata": {},
   "outputs": [
    {
     "data": {
      "text/plain": [
       "0     51229\n",
       "1     14089\n",
       "2     14089\n",
       "3     40215\n",
       "4     21774\n",
       "      ...  \n",
       "93    10246\n",
       "94    29458\n",
       "95    63784\n",
       "96    43291\n",
       "97    42779\n",
       "Name: price_ru, Length: 98, dtype: int64"
      ]
     },
     "execution_count": 69,
     "metadata": {},
     "output_type": "execute_result"
    }
   ],
   "source": [
    "df['price_ru']"
   ]
  },
  {
   "cell_type": "code",
   "execution_count": 70,
   "metadata": {},
   "outputs": [
    {
     "data": {
      "text/plain": [
       "113351"
      ]
     },
     "execution_count": 70,
     "metadata": {},
     "output_type": "execute_result"
    }
   ],
   "source": [
    "df['price_ru'].max()"
   ]
  },
  {
   "cell_type": "code",
   "execution_count": 71,
   "metadata": {},
   "outputs": [
    {
     "data": {
      "text/html": [
       "<div>\n",
       "<style scoped>\n",
       "    .dataframe tbody tr th:only-of-type {\n",
       "        vertical-align: middle;\n",
       "    }\n",
       "\n",
       "    .dataframe tbody tr th {\n",
       "        vertical-align: top;\n",
       "    }\n",
       "\n",
       "    .dataframe thead th {\n",
       "        text-align: right;\n",
       "    }\n",
       "</style>\n",
       "<table border=\"1\" class=\"dataframe\">\n",
       "  <thead>\n",
       "    <tr style=\"text-align: right;\">\n",
       "      <th></th>\n",
       "      <th>price_ru</th>\n",
       "      <th>price_usd</th>\n",
       "    </tr>\n",
       "  </thead>\n",
       "  <tbody>\n",
       "    <tr>\n",
       "      <th>count</th>\n",
       "      <td>98.000000</td>\n",
       "      <td>98.000000</td>\n",
       "    </tr>\n",
       "    <tr>\n",
       "      <th>mean</th>\n",
       "      <td>32348.908163</td>\n",
       "      <td>12628.397959</td>\n",
       "    </tr>\n",
       "    <tr>\n",
       "      <th>std</th>\n",
       "      <td>23494.875139</td>\n",
       "      <td>9171.943992</td>\n",
       "    </tr>\n",
       "    <tr>\n",
       "      <th>min</th>\n",
       "      <td>7557.000000</td>\n",
       "      <td>2950.000000</td>\n",
       "    </tr>\n",
       "    <tr>\n",
       "      <th>25%</th>\n",
       "      <td>16650.000000</td>\n",
       "      <td>6500.000000</td>\n",
       "    </tr>\n",
       "    <tr>\n",
       "      <th>50%</th>\n",
       "      <td>24335.000000</td>\n",
       "      <td>9500.000000</td>\n",
       "    </tr>\n",
       "    <tr>\n",
       "      <th>75%</th>\n",
       "      <td>40087.500000</td>\n",
       "      <td>15649.250000</td>\n",
       "    </tr>\n",
       "    <tr>\n",
       "      <th>max</th>\n",
       "      <td>113351.000000</td>\n",
       "      <td>44250.000000</td>\n",
       "    </tr>\n",
       "  </tbody>\n",
       "</table>\n",
       "</div>"
      ],
      "text/plain": [
       "            price_ru     price_usd\n",
       "count      98.000000     98.000000\n",
       "mean    32348.908163  12628.397959\n",
       "std     23494.875139   9171.943992\n",
       "min      7557.000000   2950.000000\n",
       "25%     16650.000000   6500.000000\n",
       "50%     24335.000000   9500.000000\n",
       "75%     40087.500000  15649.250000\n",
       "max    113351.000000  44250.000000"
      ]
     },
     "execution_count": 71,
     "metadata": {},
     "output_type": "execute_result"
    }
   ],
   "source": [
    "df.describe()"
   ]
  },
  {
   "cell_type": "code",
   "execution_count": 72,
   "metadata": {},
   "outputs": [
    {
     "data": {
      "text/plain": [
       "image        object\n",
       "title        object\n",
       "params       object\n",
       "link         object\n",
       "price_ru      int64\n",
       "price_usd     int64\n",
       "dtype: object"
      ]
     },
     "execution_count": 72,
     "metadata": {},
     "output_type": "execute_result"
    }
   ],
   "source": [
    "df.dtypes"
   ]
  },
  {
   "cell_type": "code",
   "execution_count": 73,
   "metadata": {},
   "outputs": [
    {
     "name": "stdout",
     "output_type": "stream",
     "text": [
      "<class 'pandas.core.frame.DataFrame'>\n",
      "RangeIndex: 98 entries, 0 to 97\n",
      "Data columns (total 6 columns):\n",
      " #   Column     Non-Null Count  Dtype \n",
      "---  ------     --------------  ----- \n",
      " 0   image      98 non-null     object\n",
      " 1   title      98 non-null     object\n",
      " 2   params     98 non-null     object\n",
      " 3   link       98 non-null     object\n",
      " 4   price_ru   98 non-null     int64 \n",
      " 5   price_usd  98 non-null     int64 \n",
      "dtypes: int64(2), object(4)\n",
      "memory usage: 4.7+ KB\n"
     ]
    }
   ],
   "source": [
    "df.info()"
   ]
  },
  {
   "cell_type": "code",
   "execution_count": 74,
   "metadata": {},
   "outputs": [
    {
     "data": {
      "text/plain": [
       "'2010'"
      ]
     },
     "execution_count": 74,
     "metadata": {},
     "output_type": "execute_result"
    }
   ],
   "source": [
    "df['params'][0][0]"
   ]
  },
  {
   "cell_type": "code",
   "execution_count": 75,
   "metadata": {},
   "outputs": [
    {
     "data": {
      "text/plain": [
       "<AxesSubplot:>"
      ]
     },
     "execution_count": 75,
     "metadata": {},
     "output_type": "execute_result"
    },
    {
     "data": {
      "image/png": "[encoded data removed]",
      "text/plain": [
       "<Figure size 432x288 with 1 Axes>"
      ]
     },
     "metadata": {
      "needs_background": "light"
     },
     "output_type": "display_data"
    }
   ],
   "source": [
    "df.plot()"
   ]
  },
  {
   "cell_type": "code",
   "execution_count": null,
   "metadata": {},
   "outputs": [],
   "source": []
  }
 ],
 "metadata": {
  "kernelspec": {
   "display_name": "Python 3",
   "language": "python",
   "name": "python3"
  },
  "language_info": {
   "codemirror_mode": {
    "name": "ipython",
    "version": 3
   },
   "file_extension": ".py",
   "mimetype": "text/x-python",
   "name": "python",
   "nbconvert_exporter": "python",
   "pygments_lexer": "ipython3",
   "version": "3.8.5"
  }
 },
 "nbformat": 4,
 "nbformat_minor": 4
}
