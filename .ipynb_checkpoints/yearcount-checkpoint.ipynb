{
 "cells": [
  {
   "cell_type": "code",
   "execution_count": 243,
   "id": "417ece50",
   "metadata": {},
   "outputs": [],
   "source": [
    "import pandas as pd\n",
    "import numpy as np\n",
    "import matplotlib.pyplot as plt\n",
    "%matplotlib inline\n",
    "import seaborn as sns\n",
    "## Display all the columns of the dataframe\n",
    "pd.pandas.set_option('display.max_columns',None)"
   ]
  },
  {
   "cell_type": "code",
   "execution_count": 244,
   "id": "fd26ba8c",
   "metadata": {},
   "outputs": [],
   "source": [
    "df = pd.read_json(\"cars.json\")\n"
   ]
  },
  {
   "cell_type": "code",
   "execution_count": 245,
   "id": "006ae69b",
   "metadata": {},
   "outputs": [
    {
     "name": "stdout",
     "output_type": "stream",
     "text": [
      "(2598, 12)\n"
     ]
    }
   ],
   "source": [
    "## print shape of dataset with rows and columns\n",
    "print(df.shape)"
   ]
  },
  {
   "cell_type": "code",
   "execution_count": 246,
   "id": "bbb381a6",
   "metadata": {},
   "outputs": [
    {
     "data": {
      "text/html": [
       "<div>\n",
       "<style scoped>\n",
       "    .dataframe tbody tr th:only-of-type {\n",
       "        vertical-align: middle;\n",
       "    }\n",
       "\n",
       "    .dataframe tbody tr th {\n",
       "        vertical-align: top;\n",
       "    }\n",
       "\n",
       "    .dataframe thead th {\n",
       "        text-align: right;\n",
       "    }\n",
       "</style>\n",
       "<table border=\"1\" class=\"dataframe\">\n",
       "  <thead>\n",
       "    <tr style=\"text-align: right;\">\n",
       "      <th></th>\n",
       "      <th>id</th>\n",
       "      <th>image</th>\n",
       "      <th>title</th>\n",
       "      <th>params</th>\n",
       "      <th>year</th>\n",
       "      <th>volume</th>\n",
       "      <th>engine</th>\n",
       "      <th>transmision</th>\n",
       "      <th>miles</th>\n",
       "      <th>link</th>\n",
       "      <th>price_ru</th>\n",
       "      <th>price_usd</th>\n",
       "    </tr>\n",
       "  </thead>\n",
       "  <tbody>\n",
       "    <tr>\n",
       "      <th>0</th>\n",
       "      <td>1</td>\n",
       "      <td>https://avcdn.av.by/advertpreview/0000/2672/74...</td>\n",
       "      <td>Peugeot 806 221, 7 мест</td>\n",
       "      <td>1998 г.механика, 2.0 л, бензин300 000 км</td>\n",
       "      <td>1998</td>\n",
       "      <td>2.0</td>\n",
       "      <td>бензин</td>\n",
       "      <td>механика</td>\n",
       "      <td>300000</td>\n",
       "      <td>/peugeot/806/100352674</td>\n",
       "      <td>7062</td>\n",
       "      <td>2750</td>\n",
       "    </tr>\n",
       "    <tr>\n",
       "      <th>1</th>\n",
       "      <td>2</td>\n",
       "      <td>https://avcdn.av.by/advertpreview/0000/2115/71...</td>\n",
       "      <td>Peugeot 308 T7</td>\n",
       "      <td>2008 г.механика, 1.6 л, дизель295 819 км</td>\n",
       "      <td>2008</td>\n",
       "      <td>1.6</td>\n",
       "      <td>дизель</td>\n",
       "      <td>механика</td>\n",
       "      <td>295819</td>\n",
       "      <td>/peugeot/308/100264252</td>\n",
       "      <td>14894</td>\n",
       "      <td>5800</td>\n",
       "    </tr>\n",
       "    <tr>\n",
       "      <th>2</th>\n",
       "      <td>3</td>\n",
       "      <td>https://avcdn.av.by/advertpreview/0000/2619/85...</td>\n",
       "      <td>Peugeot 307 I</td>\n",
       "      <td>2004 г.механика, 1.4 л, дизель317 000 км</td>\n",
       "      <td>2004</td>\n",
       "      <td>1.4</td>\n",
       "      <td>дизель</td>\n",
       "      <td>механика</td>\n",
       "      <td>317000</td>\n",
       "      <td>/peugeot/307/100344387</td>\n",
       "      <td>7576</td>\n",
       "      <td>2950</td>\n",
       "    </tr>\n",
       "    <tr>\n",
       "      <th>3</th>\n",
       "      <td>4</td>\n",
       "      <td>https://avcdn.av.by/advertpreview/0000/2513/11...</td>\n",
       "      <td>Peugeot 308 T9</td>\n",
       "      <td>2016 г.механика, 1.6 л, дизель131 000 км</td>\n",
       "      <td>2016</td>\n",
       "      <td>1.6</td>\n",
       "      <td>дизель</td>\n",
       "      <td>механика</td>\n",
       "      <td>131000</td>\n",
       "      <td>/peugeot/308/100293543</td>\n",
       "      <td>29917</td>\n",
       "      <td>11650</td>\n",
       "    </tr>\n",
       "    <tr>\n",
       "      <th>4</th>\n",
       "      <td>5</td>\n",
       "      <td>https://avcdn.av.by/advertpreview/0000/2547/53...</td>\n",
       "      <td>Peugeot 206 I</td>\n",
       "      <td>2005 г.автомат, 1.4 л, бензин132 104 км</td>\n",
       "      <td>2005</td>\n",
       "      <td>1.4</td>\n",
       "      <td>бензин</td>\n",
       "      <td>автомат</td>\n",
       "      <td>132104</td>\n",
       "      <td>/peugeot/206/100332469</td>\n",
       "      <td>5136</td>\n",
       "      <td>2000</td>\n",
       "    </tr>\n",
       "  </tbody>\n",
       "</table>\n",
       "</div>"
      ],
      "text/plain": [
       "   id                                              image  \\\n",
       "0   1  https://avcdn.av.by/advertpreview/0000/2672/74...   \n",
       "1   2  https://avcdn.av.by/advertpreview/0000/2115/71...   \n",
       "2   3  https://avcdn.av.by/advertpreview/0000/2619/85...   \n",
       "3   4  https://avcdn.av.by/advertpreview/0000/2513/11...   \n",
       "4   5  https://avcdn.av.by/advertpreview/0000/2547/53...   \n",
       "\n",
       "                     title                                    params  year  \\\n",
       "0  Peugeot 806 221, 7 мест  1998 г.механика, 2.0 л, бензин300 000 км  1998   \n",
       "1           Peugeot 308 T7  2008 г.механика, 1.6 л, дизель295 819 км  2008   \n",
       "2            Peugeot 307 I  2004 г.механика, 1.4 л, дизель317 000 км  2004   \n",
       "3           Peugeot 308 T9  2016 г.механика, 1.6 л, дизель131 000 км  2016   \n",
       "4            Peugeot 206 I   2005 г.автомат, 1.4 л, бензин132 104 км  2005   \n",
       "\n",
       "   volume  engine transmision   miles                    link  price_ru  \\\n",
       "0     2.0  бензин    механика  300000  /peugeot/806/100352674      7062   \n",
       "1     1.6  дизель    механика  295819  /peugeot/308/100264252     14894   \n",
       "2     1.4  дизель    механика  317000  /peugeot/307/100344387      7576   \n",
       "3     1.6  дизель    механика  131000  /peugeot/308/100293543     29917   \n",
       "4     1.4  бензин     автомат  132104  /peugeot/206/100332469      5136   \n",
       "\n",
       "   price_usd  \n",
       "0       2750  \n",
       "1       5800  \n",
       "2       2950  \n",
       "3      11650  \n",
       "4       2000  "
      ]
     },
     "execution_count": 246,
     "metadata": {},
     "output_type": "execute_result"
    }
   ],
   "source": [
    "## print the top5 records\n",
    "df.head()\n"
   ]
  },
  {
   "cell_type": "code",
   "execution_count": 247,
   "id": "05f9784b",
   "metadata": {},
   "outputs": [
    {
     "data": {
      "text/plain": [
       "0       1998\n",
       "1       2008\n",
       "2       2004\n",
       "3       2016\n",
       "4       2005\n",
       "        ... \n",
       "2593    2011\n",
       "2594    2012\n",
       "2595    2010\n",
       "2596    2008\n",
       "2597    1997\n",
       "Name: year, Length: 2598, dtype: int64"
      ]
     },
     "execution_count": 247,
     "metadata": {},
     "output_type": "execute_result"
    }
   ],
   "source": [
    "df['year']"
   ]
  },
  {
   "cell_type": "code",
   "execution_count": 248,
   "id": "f6c2dec7",
   "metadata": {},
   "outputs": [
    {
     "data": {
      "text/plain": [
       "604"
      ]
     },
     "execution_count": 248,
     "metadata": {},
     "output_type": "execute_result"
    }
   ],
   "source": [
    "df.query('volume == 2.0').year.count()"
   ]
  },
  {
   "cell_type": "code",
   "execution_count": 294,
   "id": "1bdddd60",
   "metadata": {},
   "outputs": [
    {
     "data": {
      "text/plain": [
       "array([1998, 2008, 2004, 2016, 2005, 2017, 2015, 2009, 2007, 2011, 2002,\n",
       "       2000, 2006, 2018, 2001, 1999, 2012, 1997, 2019, 1994, 2003, 1996,\n",
       "       2013, 2014, 2010, 1993, 1991, 1995, 1992, 1990, 1983, 1988, 1986,\n",
       "       1987, 1989, 2021, 2020], dtype=int64)"
      ]
     },
     "execution_count": 294,
     "metadata": {},
     "output_type": "execute_result"
    }
   ],
   "source": [
    "vol = df['year'].unique()\n",
    "vol"
   ]
  },
  {
   "cell_type": "code",
   "execution_count": 326,
   "id": "2b3b8d9c",
   "metadata": {},
   "outputs": [
    {
     "ename": "ValueError",
     "evalue": "invalid literal for int() with base 10: 'cars'",
     "output_type": "error",
     "traceback": [
      "\u001b[1;31m---------------------------------------------------------------------------\u001b[0m",
      "\u001b[1;31mValueError\u001b[0m                                Traceback (most recent call last)",
      "\u001b[1;32m<ipython-input-326-7dea6aab92d0>\u001b[0m in \u001b[0;36m<module>\u001b[1;34m\u001b[0m\n\u001b[0;32m     18\u001b[0m \u001b[1;31m#     array['year'] = dicty\u001b[0m\u001b[1;33m\u001b[0m\u001b[1;33m\u001b[0m\u001b[1;33m\u001b[0m\u001b[0m\n\u001b[0;32m     19\u001b[0m \u001b[1;31m# print(array)\u001b[0m\u001b[1;33m\u001b[0m\u001b[1;33m\u001b[0m\u001b[1;33m\u001b[0m\u001b[0m\n\u001b[1;32m---> 20\u001b[1;33m \u001b[0msorted_dict\u001b[0m \u001b[1;33m=\u001b[0m \u001b[0msorted\u001b[0m\u001b[1;33m(\u001b[0m\u001b[0mfinal\u001b[0m\u001b[1;33m.\u001b[0m\u001b[0mitems\u001b[0m\u001b[1;33m(\u001b[0m\u001b[1;33m)\u001b[0m\u001b[1;33m,\u001b[0m \u001b[0mkey\u001b[0m\u001b[1;33m=\u001b[0m\u001b[1;32mlambda\u001b[0m \u001b[0mitem\u001b[0m\u001b[1;33m:\u001b[0m \u001b[0mint\u001b[0m\u001b[1;33m(\u001b[0m\u001b[0mitem\u001b[0m\u001b[1;33m[\u001b[0m\u001b[1;36m0\u001b[0m\u001b[1;33m]\u001b[0m\u001b[1;33m)\u001b[0m\u001b[1;33m,\u001b[0m \u001b[0mreverse\u001b[0m\u001b[1;33m=\u001b[0m\u001b[1;32mTrue\u001b[0m\u001b[1;33m)\u001b[0m\u001b[1;33m\u001b[0m\u001b[1;33m\u001b[0m\u001b[0m\n\u001b[0m\u001b[0;32m     21\u001b[0m \u001b[1;31m# print(sorted_dict)\u001b[0m\u001b[1;33m\u001b[0m\u001b[1;33m\u001b[0m\u001b[1;33m\u001b[0m\u001b[0m\n\u001b[0;32m     22\u001b[0m \u001b[1;31m# {key: value for key, value in sorted(final.items(), key=lambda item: item[0])}\u001b[0m\u001b[1;33m\u001b[0m\u001b[1;33m\u001b[0m\u001b[1;33m\u001b[0m\u001b[0m\n",
      "\u001b[1;32m<ipython-input-326-7dea6aab92d0>\u001b[0m in \u001b[0;36m<lambda>\u001b[1;34m(item)\u001b[0m\n\u001b[0;32m     18\u001b[0m \u001b[1;31m#     array['year'] = dicty\u001b[0m\u001b[1;33m\u001b[0m\u001b[1;33m\u001b[0m\u001b[1;33m\u001b[0m\u001b[0m\n\u001b[0;32m     19\u001b[0m \u001b[1;31m# print(array)\u001b[0m\u001b[1;33m\u001b[0m\u001b[1;33m\u001b[0m\u001b[1;33m\u001b[0m\u001b[0m\n\u001b[1;32m---> 20\u001b[1;33m \u001b[0msorted_dict\u001b[0m \u001b[1;33m=\u001b[0m \u001b[0msorted\u001b[0m\u001b[1;33m(\u001b[0m\u001b[0mfinal\u001b[0m\u001b[1;33m.\u001b[0m\u001b[0mitems\u001b[0m\u001b[1;33m(\u001b[0m\u001b[1;33m)\u001b[0m\u001b[1;33m,\u001b[0m \u001b[0mkey\u001b[0m\u001b[1;33m=\u001b[0m\u001b[1;32mlambda\u001b[0m \u001b[0mitem\u001b[0m\u001b[1;33m:\u001b[0m \u001b[0mint\u001b[0m\u001b[1;33m(\u001b[0m\u001b[0mitem\u001b[0m\u001b[1;33m[\u001b[0m\u001b[1;36m0\u001b[0m\u001b[1;33m]\u001b[0m\u001b[1;33m)\u001b[0m\u001b[1;33m,\u001b[0m \u001b[0mreverse\u001b[0m\u001b[1;33m=\u001b[0m\u001b[1;32mTrue\u001b[0m\u001b[1;33m)\u001b[0m\u001b[1;33m\u001b[0m\u001b[1;33m\u001b[0m\u001b[0m\n\u001b[0m\u001b[0;32m     21\u001b[0m \u001b[1;31m# print(sorted_dict)\u001b[0m\u001b[1;33m\u001b[0m\u001b[1;33m\u001b[0m\u001b[1;33m\u001b[0m\u001b[0m\n\u001b[0;32m     22\u001b[0m \u001b[1;31m# {key: value for key, value in sorted(final.items(), key=lambda item: item[0])}\u001b[0m\u001b[1;33m\u001b[0m\u001b[1;33m\u001b[0m\u001b[1;33m\u001b[0m\u001b[0m\n",
      "\u001b[1;31mValueError\u001b[0m: invalid literal for int() with base 10: 'cars'"
     ]
    }
   ],
   "source": [
    "array = []\n",
    "dicty = {}\n",
    "final = {}\n",
    "for car_year in vol:\n",
    "#     print(year)\n",
    "    car_count = df.query( 'year == {}'.format(car_year) ).year.count()\n",
    "\n",
    "#     dict[f'{item}'] = count\n",
    "    \n",
    "    dicty = {\n",
    "        'car_year': int(car_year),\n",
    "        'car_count': car_count\n",
    "    }\n",
    "    \n",
    "    array.append(dicty)\n",
    "final['cars'] = array\n",
    "# print(final)\n",
    "#     array['year'] = dicty\n",
    "# print(array)\n",
    "sorted_dict = sorted(final.items(), key=lambda item: int(item[0]), reverse=True) \n",
    "# print(sorted_dict)\n",
    "# {key: value for key, value in sorted(final.items(), key=lambda item: item[0])}\n",
    "    "
   ]
  },
  {
   "cell_type": "code",
   "execution_count": 269,
   "id": "197d51b6",
   "metadata": {},
   "outputs": [],
   "source": [
    "df_car = pd.DataFrame(array, columns=['car_year', 'car_count'])"
   ]
  },
  {
   "cell_type": "code",
   "execution_count": 270,
   "id": "5b8bae32",
   "metadata": {},
   "outputs": [
    {
     "data": {
      "text/html": [
       "<div>\n",
       "<style scoped>\n",
       "    .dataframe tbody tr th:only-of-type {\n",
       "        vertical-align: middle;\n",
       "    }\n",
       "\n",
       "    .dataframe tbody tr th {\n",
       "        vertical-align: top;\n",
       "    }\n",
       "\n",
       "    .dataframe thead th {\n",
       "        text-align: right;\n",
       "    }\n",
       "</style>\n",
       "<table border=\"1\" class=\"dataframe\">\n",
       "  <thead>\n",
       "    <tr style=\"text-align: right;\">\n",
       "      <th></th>\n",
       "      <th>car_year</th>\n",
       "      <th>car_count</th>\n",
       "    </tr>\n",
       "  </thead>\n",
       "  <tbody>\n",
       "    <tr>\n",
       "      <th>count</th>\n",
       "      <td>37.000000</td>\n",
       "      <td>37.000000</td>\n",
       "    </tr>\n",
       "    <tr>\n",
       "      <th>mean</th>\n",
       "      <td>2002.945946</td>\n",
       "      <td>70.216216</td>\n",
       "    </tr>\n",
       "    <tr>\n",
       "      <th>std</th>\n",
       "      <td>10.921299</td>\n",
       "      <td>58.180340</td>\n",
       "    </tr>\n",
       "    <tr>\n",
       "      <th>min</th>\n",
       "      <td>1983.000000</td>\n",
       "      <td>1.000000</td>\n",
       "    </tr>\n",
       "    <tr>\n",
       "      <th>25%</th>\n",
       "      <td>1994.000000</td>\n",
       "      <td>10.000000</td>\n",
       "    </tr>\n",
       "    <tr>\n",
       "      <th>50%</th>\n",
       "      <td>2003.000000</td>\n",
       "      <td>57.000000</td>\n",
       "    </tr>\n",
       "    <tr>\n",
       "      <th>75%</th>\n",
       "      <td>2012.000000</td>\n",
       "      <td>115.000000</td>\n",
       "    </tr>\n",
       "    <tr>\n",
       "      <th>max</th>\n",
       "      <td>2021.000000</td>\n",
       "      <td>179.000000</td>\n",
       "    </tr>\n",
       "  </tbody>\n",
       "</table>\n",
       "</div>"
      ],
      "text/plain": [
       "          car_year   car_count\n",
       "count    37.000000   37.000000\n",
       "mean   2002.945946   70.216216\n",
       "std      10.921299   58.180340\n",
       "min    1983.000000    1.000000\n",
       "25%    1994.000000   10.000000\n",
       "50%    2003.000000   57.000000\n",
       "75%    2012.000000  115.000000\n",
       "max    2021.000000  179.000000"
      ]
     },
     "execution_count": 270,
     "metadata": {},
     "output_type": "execute_result"
    }
   ],
   "source": [
    "df_car.describe()"
   ]
  },
  {
   "cell_type": "code",
   "execution_count": 271,
   "id": "667d77da",
   "metadata": {},
   "outputs": [
    {
     "data": {
      "text/html": [
       "<div>\n",
       "<style scoped>\n",
       "    .dataframe tbody tr th:only-of-type {\n",
       "        vertical-align: middle;\n",
       "    }\n",
       "\n",
       "    .dataframe tbody tr th {\n",
       "        vertical-align: top;\n",
       "    }\n",
       "\n",
       "    .dataframe thead th {\n",
       "        text-align: right;\n",
       "    }\n",
       "</style>\n",
       "<table border=\"1\" class=\"dataframe\">\n",
       "  <thead>\n",
       "    <tr style=\"text-align: right;\">\n",
       "      <th></th>\n",
       "      <th>car_year</th>\n",
       "      <th>car_count</th>\n",
       "    </tr>\n",
       "  </thead>\n",
       "  <tbody>\n",
       "    <tr>\n",
       "      <th>0</th>\n",
       "      <td>1998</td>\n",
       "      <td>161</td>\n",
       "    </tr>\n",
       "    <tr>\n",
       "      <th>1</th>\n",
       "      <td>2008</td>\n",
       "      <td>179</td>\n",
       "    </tr>\n",
       "    <tr>\n",
       "      <th>2</th>\n",
       "      <td>2004</td>\n",
       "      <td>119</td>\n",
       "    </tr>\n",
       "    <tr>\n",
       "      <th>3</th>\n",
       "      <td>2016</td>\n",
       "      <td>71</td>\n",
       "    </tr>\n",
       "    <tr>\n",
       "      <th>4</th>\n",
       "      <td>2005</td>\n",
       "      <td>85</td>\n",
       "    </tr>\n",
       "    <tr>\n",
       "      <th>5</th>\n",
       "      <td>2017</td>\n",
       "      <td>45</td>\n",
       "    </tr>\n",
       "    <tr>\n",
       "      <th>6</th>\n",
       "      <td>2015</td>\n",
       "      <td>47</td>\n",
       "    </tr>\n",
       "    <tr>\n",
       "      <th>7</th>\n",
       "      <td>2009</td>\n",
       "      <td>103</td>\n",
       "    </tr>\n",
       "  </tbody>\n",
       "</table>\n",
       "</div>"
      ],
      "text/plain": [
       "   car_year  car_count\n",
       "0      1998        161\n",
       "1      2008        179\n",
       "2      2004        119\n",
       "3      2016         71\n",
       "4      2005         85\n",
       "5      2017         45\n",
       "6      2015         47\n",
       "7      2009        103"
      ]
     },
     "execution_count": 271,
     "metadata": {},
     "output_type": "execute_result"
    }
   ],
   "source": [
    "top8=df_car.head(8)\n",
    "top8"
   ]
  },
  {
   "cell_type": "code",
   "execution_count": 272,
   "id": "73c39373",
   "metadata": {},
   "outputs": [
    {
     "data": {
      "image/png": "[encoded data removed]",
      "text/plain": [
       "<Figure size 720x432 with 1 Axes>"
      ]
     },
     "metadata": {
      "needs_background": "light"
     },
     "output_type": "display_data"
    }
   ],
   "source": [
    "car_plot = df_car.plot.bar(x=\"car_year\", y=\"car_count\", figsize=(10,6), fontsize=(14))"
   ]
  },
  {
   "cell_type": "code",
   "execution_count": null,
   "id": "6d3e5bbd",
   "metadata": {},
   "outputs": [],
   "source": []
  }
 ],
 "metadata": {
  "kernelspec": {
   "display_name": "Python 3",
   "language": "python",
   "name": "python3"
  },
  "language_info": {
   "codemirror_mode": {
    "name": "ipython",
    "version": 3
   },
   "file_extension": ".py",
   "mimetype": "text/x-python",
   "name": "python",
   "nbconvert_exporter": "python",
   "pygments_lexer": "ipython3",
   "version": "3.8.5"
  }
 },
 "nbformat": 4,
 "nbformat_minor": 5
}
