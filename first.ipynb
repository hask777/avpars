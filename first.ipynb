{
 "cells": [
  {
   "cell_type": "code",
   "execution_count": 53,
   "metadata": {},
   "outputs": [],
   "source": [
    "import pandas as pd\n",
    "import matplotlib.pyplot as plt"
   ]
  },
  {
   "cell_type": "code",
   "execution_count": 54,
   "metadata": {},
   "outputs": [],
   "source": [
    "df = pd.read_json(\"cars.json\")"
   ]
  },
  {
   "cell_type": "code",
   "execution_count": 55,
   "metadata": {},
   "outputs": [
    {
     "data": {
      "text/html": [
       "<div>\n",
       "<style scoped>\n",
       "    .dataframe tbody tr th:only-of-type {\n",
       "        vertical-align: middle;\n",
       "    }\n",
       "\n",
       "    .dataframe tbody tr th {\n",
       "        vertical-align: top;\n",
       "    }\n",
       "\n",
       "    .dataframe thead th {\n",
       "        text-align: right;\n",
       "    }\n",
       "</style>\n",
       "<table border=\"1\" class=\"dataframe\">\n",
       "  <thead>\n",
       "    <tr style=\"text-align: right;\">\n",
       "      <th></th>\n",
       "      <th>image</th>\n",
       "      <th>title</th>\n",
       "      <th>params</th>\n",
       "      <th>year</th>\n",
       "      <th>volume</th>\n",
       "      <th>engine</th>\n",
       "      <th>transmision</th>\n",
       "      <th>miles</th>\n",
       "      <th>link</th>\n",
       "      <th>price_ru</th>\n",
       "      <th>price_usd</th>\n",
       "    </tr>\n",
       "  </thead>\n",
       "  <tbody>\n",
       "    <tr>\n",
       "      <th>0</th>\n",
       "      <td>https://avcdn.av.by/advertpreview/0000/2194/77...</td>\n",
       "      <td>Porsche Cayenne 957</td>\n",
       "      <td>2008 г.автомат, 4.8 л, бензин250 000 км</td>\n",
       "      <td>2008</td>\n",
       "      <td>4.8</td>\n",
       "      <td>бензин</td>\n",
       "      <td>автомат</td>\n",
       "      <td>250000</td>\n",
       "      <td>/porsche/cayenne/14841701</td>\n",
       "      <td>31996</td>\n",
       "      <td>12500</td>\n",
       "    </tr>\n",
       "    <tr>\n",
       "      <th>1</th>\n",
       "      <td>https://avcdn.av.by/advertpreview/0000/2673/53...</td>\n",
       "      <td>Porsche Cayenne 955</td>\n",
       "      <td>2003 г.автомат, 4.5 л, бензин260 000 км</td>\n",
       "      <td>2003</td>\n",
       "      <td>4.5</td>\n",
       "      <td>бензин</td>\n",
       "      <td>автомат</td>\n",
       "      <td>260000</td>\n",
       "      <td>/porsche/cayenne/100352825</td>\n",
       "      <td>19198</td>\n",
       "      <td>7500</td>\n",
       "    </tr>\n",
       "    <tr>\n",
       "      <th>2</th>\n",
       "      <td>https://avcdn.av.by/advertpreview/0000/2690/63...</td>\n",
       "      <td>Porsche Cayenne 958 · Рестайлинг</td>\n",
       "      <td>2016 г.автомат, 3.0 л, дизель58 200 км</td>\n",
       "      <td>2016</td>\n",
       "      <td>3.0</td>\n",
       "      <td>дизель</td>\n",
       "      <td>автомат</td>\n",
       "      <td>58200</td>\n",
       "      <td>/porsche/cayenne/100355989</td>\n",
       "      <td>140528</td>\n",
       "      <td>54900</td>\n",
       "    </tr>\n",
       "    <tr>\n",
       "      <th>3</th>\n",
       "      <td>https://static.av.by/public_images/preview/016...</td>\n",
       "      <td>Porsche Cayenne 955</td>\n",
       "      <td>2003 г.автомат, 4.5 л, бензин40 000 км</td>\n",
       "      <td>2003</td>\n",
       "      <td>4.5</td>\n",
       "      <td>бензин</td>\n",
       "      <td>автомат</td>\n",
       "      <td>40000</td>\n",
       "      <td>/porsche/cayenne/16061959</td>\n",
       "      <td>23037</td>\n",
       "      <td>9000</td>\n",
       "    </tr>\n",
       "    <tr>\n",
       "      <th>4</th>\n",
       "      <td>https://avcdn.av.by/advertpreview/0000/1651/71...</td>\n",
       "      <td>Porsche Panamera 970 · Рестайлинг</td>\n",
       "      <td>2013 г.автомат, 3.0 л, бензин99 000 км</td>\n",
       "      <td>2013</td>\n",
       "      <td>3.0</td>\n",
       "      <td>бензин</td>\n",
       "      <td>автомат</td>\n",
       "      <td>99000</td>\n",
       "      <td>/porsche/panamera/100175659</td>\n",
       "      <td>111347</td>\n",
       "      <td>43500</td>\n",
       "    </tr>\n",
       "    <tr>\n",
       "      <th>...</th>\n",
       "      <td>...</td>\n",
       "      <td>...</td>\n",
       "      <td>...</td>\n",
       "      <td>...</td>\n",
       "      <td>...</td>\n",
       "      <td>...</td>\n",
       "      <td>...</td>\n",
       "      <td>...</td>\n",
       "      <td>...</td>\n",
       "      <td>...</td>\n",
       "      <td>...</td>\n",
       "    </tr>\n",
       "    <tr>\n",
       "      <th>94</th>\n",
       "      <td>https://avcdn.av.by/advertpreview/0000/2225/38...</td>\n",
       "      <td>Porsche Cayenne 957</td>\n",
       "      <td>2009 г.автомат, 3.0 л, дизель220 100 км</td>\n",
       "      <td>2009</td>\n",
       "      <td>3.0</td>\n",
       "      <td>дизель</td>\n",
       "      <td>автомат</td>\n",
       "      <td>220100</td>\n",
       "      <td>/porsche/cayenne/100279692</td>\n",
       "      <td>40930</td>\n",
       "      <td>15990</td>\n",
       "    </tr>\n",
       "    <tr>\n",
       "      <th>95</th>\n",
       "      <td>https://avcdn.av.by/advertpreview/0000/2501/98...</td>\n",
       "      <td>Porsche Cayenne 955</td>\n",
       "      <td>2004 г.автомат, 4.5 л, бензин193 000 км</td>\n",
       "      <td>2004</td>\n",
       "      <td>4.5</td>\n",
       "      <td>бензин</td>\n",
       "      <td>автомат</td>\n",
       "      <td>193000</td>\n",
       "      <td>/porsche/cayenne/100325501</td>\n",
       "      <td>18800</td>\n",
       "      <td>7345</td>\n",
       "    </tr>\n",
       "    <tr>\n",
       "      <th>96</th>\n",
       "      <td>https://static.av.by/public_images/preview/018...</td>\n",
       "      <td>Porsche Cayenne 958</td>\n",
       "      <td>2012 г.автомат, 3.0 л, бензин (гибрид)137 000 км</td>\n",
       "      <td>2012</td>\n",
       "      <td>3.0</td>\n",
       "      <td>бензин</td>\n",
       "      <td>автомат</td>\n",
       "      <td>137000</td>\n",
       "      <td>/porsche/cayenne/18944811</td>\n",
       "      <td>69109</td>\n",
       "      <td>26999</td>\n",
       "    </tr>\n",
       "    <tr>\n",
       "      <th>97</th>\n",
       "      <td>https://static.av.by/public_images/preview/020...</td>\n",
       "      <td>Porsche Cayenne 958</td>\n",
       "      <td>2013 г.автомат, 4.8 л, бензин80 000 км</td>\n",
       "      <td>2013</td>\n",
       "      <td>4.8</td>\n",
       "      <td>бензин</td>\n",
       "      <td>автомат</td>\n",
       "      <td>80000</td>\n",
       "      <td>/porsche/cayenne/20203947</td>\n",
       "      <td>94709</td>\n",
       "      <td>37000</td>\n",
       "    </tr>\n",
       "    <tr>\n",
       "      <th>98</th>\n",
       "      <td>https://avcdn.av.by/advertpreview/0000/2536/77...</td>\n",
       "      <td>Porsche Cayenne Coupe I</td>\n",
       "      <td>2019 г.автомат, 4.0 л, бензин30 000 км</td>\n",
       "      <td>2019</td>\n",
       "      <td>4.0</td>\n",
       "      <td>бензин</td>\n",
       "      <td>автомат</td>\n",
       "      <td>30000</td>\n",
       "      <td>/porsche/cayenne-coupe/100330723</td>\n",
       "      <td>429635</td>\n",
       "      <td>167846</td>\n",
       "    </tr>\n",
       "  </tbody>\n",
       "</table>\n",
       "<p>99 rows × 11 columns</p>\n",
       "</div>"
      ],
      "text/plain": [
       "                                                image  \\\n",
       "0   https://avcdn.av.by/advertpreview/0000/2194/77...   \n",
       "1   https://avcdn.av.by/advertpreview/0000/2673/53...   \n",
       "2   https://avcdn.av.by/advertpreview/0000/2690/63...   \n",
       "3   https://static.av.by/public_images/preview/016...   \n",
       "4   https://avcdn.av.by/advertpreview/0000/1651/71...   \n",
       "..                                                ...   \n",
       "94  https://avcdn.av.by/advertpreview/0000/2225/38...   \n",
       "95  https://avcdn.av.by/advertpreview/0000/2501/98...   \n",
       "96  https://static.av.by/public_images/preview/018...   \n",
       "97  https://static.av.by/public_images/preview/020...   \n",
       "98  https://avcdn.av.by/advertpreview/0000/2536/77...   \n",
       "\n",
       "                                title  \\\n",
       "0                 Porsche Cayenne 957   \n",
       "1                 Porsche Cayenne 955   \n",
       "2    Porsche Cayenne 958 · Рестайлинг   \n",
       "3                 Porsche Cayenne 955   \n",
       "4   Porsche Panamera 970 · Рестайлинг   \n",
       "..                                ...   \n",
       "94                Porsche Cayenne 957   \n",
       "95                Porsche Cayenne 955   \n",
       "96                Porsche Cayenne 958   \n",
       "97                Porsche Cayenne 958   \n",
       "98            Porsche Cayenne Coupe I   \n",
       "\n",
       "                                              params  year  volume  engine  \\\n",
       "0            2008 г.автомат, 4.8 л, бензин250 000 км  2008     4.8  бензин   \n",
       "1            2003 г.автомат, 4.5 л, бензин260 000 км  2003     4.5  бензин   \n",
       "2             2016 г.автомат, 3.0 л, дизель58 200 км  2016     3.0  дизель   \n",
       "3             2003 г.автомат, 4.5 л, бензин40 000 км  2003     4.5  бензин   \n",
       "4             2013 г.автомат, 3.0 л, бензин99 000 км  2013     3.0  бензин   \n",
       "..                                               ...   ...     ...     ...   \n",
       "94           2009 г.автомат, 3.0 л, дизель220 100 км  2009     3.0  дизель   \n",
       "95           2004 г.автомат, 4.5 л, бензин193 000 км  2004     4.5  бензин   \n",
       "96  2012 г.автомат, 3.0 л, бензин (гибрид)137 000 км  2012     3.0  бензин   \n",
       "97            2013 г.автомат, 4.8 л, бензин80 000 км  2013     4.8  бензин   \n",
       "98            2019 г.автомат, 4.0 л, бензин30 000 км  2019     4.0  бензин   \n",
       "\n",
       "   transmision   miles                              link  price_ru  price_usd  \n",
       "0      автомат  250000         /porsche/cayenne/14841701     31996      12500  \n",
       "1      автомат  260000        /porsche/cayenne/100352825     19198       7500  \n",
       "2      автомат   58200        /porsche/cayenne/100355989    140528      54900  \n",
       "3      автомат   40000         /porsche/cayenne/16061959     23037       9000  \n",
       "4      автомат   99000       /porsche/panamera/100175659    111347      43500  \n",
       "..         ...     ...                               ...       ...        ...  \n",
       "94     автомат  220100        /porsche/cayenne/100279692     40930      15990  \n",
       "95     автомат  193000        /porsche/cayenne/100325501     18800       7345  \n",
       "96     автомат  137000         /porsche/cayenne/18944811     69109      26999  \n",
       "97     автомат   80000         /porsche/cayenne/20203947     94709      37000  \n",
       "98     автомат   30000  /porsche/cayenne-coupe/100330723    429635     167846  \n",
       "\n",
       "[99 rows x 11 columns]"
      ]
     },
     "execution_count": 55,
     "metadata": {},
     "output_type": "execute_result"
    }
   ],
   "source": [
    "df"
   ]
  },
  {
   "cell_type": "code",
   "execution_count": 56,
   "metadata": {},
   "outputs": [
    {
     "data": {
      "text/plain": [
       "2021"
      ]
     },
     "execution_count": 56,
     "metadata": {},
     "output_type": "execute_result"
    }
   ],
   "source": [
    "df[\"year\"].max()"
   ]
  },
  {
   "cell_type": "code",
   "execution_count": 57,
   "metadata": {},
   "outputs": [
    {
     "data": {
      "text/plain": [
       "image           object\n",
       "title           object\n",
       "params          object\n",
       "year             int64\n",
       "volume         float64\n",
       "engine          object\n",
       "transmision     object\n",
       "miles            int64\n",
       "link            object\n",
       "price_ru         int64\n",
       "price_usd        int64\n",
       "dtype: object"
      ]
     },
     "execution_count": 57,
     "metadata": {},
     "output_type": "execute_result"
    }
   ],
   "source": [
    "df.dtypes"
   ]
  },
  {
   "cell_type": "code",
   "execution_count": 61,
   "metadata": {},
   "outputs": [
    {
     "data": {
      "text/plain": [
       "<AxesSubplot:>"
      ]
     },
     "execution_count": 61,
     "metadata": {},
     "output_type": "execute_result"
    },
    {
     "data": {
      "image/png": "[encoded data removed]",
      "text/plain": [
       "<Figure size 432x288 with 1 Axes>"
      ]
     },
     "metadata": {
      "needs_background": "light"
     },
     "output_type": "display_data"
    }
   ],
   "source": [
    "df.plot()"
   ]
  },
  {
   "cell_type": "code",
   "execution_count": 62,
   "metadata": {},
   "outputs": [
    {
     "data": {
      "text/plain": [
       "153256.1717171717"
      ]
     },
     "execution_count": 62,
     "metadata": {},
     "output_type": "execute_result"
    }
   ],
   "source": [
    "df['miles'].mean()"
   ]
  },
  {
   "cell_type": "code",
   "execution_count": 64,
   "metadata": {},
   "outputs": [
    {
     "data": {
      "text/plain": [
       "155000.0"
      ]
     },
     "execution_count": 64,
     "metadata": {},
     "output_type": "execute_result"
    }
   ],
   "source": [
    "df['miles'].median()"
   ]
  },
  {
   "cell_type": "code",
   "execution_count": 65,
   "metadata": {},
   "outputs": [
    {
     "data": {
      "text/plain": [
       "count        99.000000\n",
       "mean     153256.171717\n",
       "std       76009.644757\n",
       "min           0.000000\n",
       "25%       98500.000000\n",
       "50%      155000.000000\n",
       "75%      205500.000000\n",
       "max      350000.000000\n",
       "Name: miles, dtype: float64"
      ]
     },
     "execution_count": 65,
     "metadata": {},
     "output_type": "execute_result"
    }
   ],
   "source": [
    "df['miles'].describe()"
   ]
  },
  {
   "cell_type": "code",
   "execution_count": null,
   "metadata": {},
   "outputs": [],
   "source": []
  }
 ],
 "metadata": {
  "kernelspec": {
   "display_name": "Python 3",
   "language": "python",
   "name": "python3"
  },
  "language_info": {
   "codemirror_mode": {
    "name": "ipython",
    "version": 3
   },
   "file_extension": ".py",
   "mimetype": "text/x-python",
   "name": "python",
   "nbconvert_exporter": "python",
   "pygments_lexer": "ipython3",
   "version": "3.8.5"
  }
 },
 "nbformat": 4,
 "nbformat_minor": 4
}
