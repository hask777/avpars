{
 "cells": [
  {
   "cell_type": "code",
   "execution_count": 1,
   "id": "22d2a62c",
   "metadata": {},
   "outputs": [],
   "source": [
    "import pandas as pd\n",
    "import numpy as np\n",
    "import matplotlib.pyplot as plt\n",
    "%matplotlib inline\n",
    "import seaborn as sns\n",
    "## Display all the columns of the dataframe\n",
    "pd.pandas.set_option('display.max_columns',None)"
   ]
  },
  {
   "cell_type": "code",
   "execution_count": 4,
   "id": "6d8f30c9",
   "metadata": {},
   "outputs": [],
   "source": [
    "dataset = pd.read_json(\"cars.json\")"
   ]
  },
  {
   "cell_type": "code",
   "execution_count": 5,
   "id": "1d49f937",
   "metadata": {},
   "outputs": [
    {
     "name": "stdout",
     "output_type": "stream",
     "text": [
      "(2598, 12)\n"
     ]
    }
   ],
   "source": [
    "\n",
    "## print shape of dataset with rows and columns\n",
    "print(dataset.shape)"
   ]
  },
  {
   "cell_type": "code",
   "execution_count": 6,
   "id": "9c0c09ba",
   "metadata": {},
   "outputs": [
    {
     "data": {
      "text/html": [
       "<div>\n",
       "<style scoped>\n",
       "    .dataframe tbody tr th:only-of-type {\n",
       "        vertical-align: middle;\n",
       "    }\n",
       "\n",
       "    .dataframe tbody tr th {\n",
       "        vertical-align: top;\n",
       "    }\n",
       "\n",
       "    .dataframe thead th {\n",
       "        text-align: right;\n",
       "    }\n",
       "</style>\n",
       "<table border=\"1\" class=\"dataframe\">\n",
       "  <thead>\n",
       "    <tr style=\"text-align: right;\">\n",
       "      <th></th>\n",
       "      <th>id</th>\n",
       "      <th>image</th>\n",
       "      <th>title</th>\n",
       "      <th>params</th>\n",
       "      <th>year</th>\n",
       "      <th>volume</th>\n",
       "      <th>engine</th>\n",
       "      <th>transmision</th>\n",
       "      <th>miles</th>\n",
       "      <th>link</th>\n",
       "      <th>price_ru</th>\n",
       "      <th>price_usd</th>\n",
       "    </tr>\n",
       "  </thead>\n",
       "  <tbody>\n",
       "    <tr>\n",
       "      <th>0</th>\n",
       "      <td>1</td>\n",
       "      <td>https://avcdn.av.by/advertpreview/0000/2672/74...</td>\n",
       "      <td>Peugeot 806 221, 7 мест</td>\n",
       "      <td>1998 г.механика, 2.0 л, бензин300 000 км</td>\n",
       "      <td>1998</td>\n",
       "      <td>2.0</td>\n",
       "      <td>бензин</td>\n",
       "      <td>механика</td>\n",
       "      <td>300000</td>\n",
       "      <td>/peugeot/806/100352674</td>\n",
       "      <td>7062</td>\n",
       "      <td>2750</td>\n",
       "    </tr>\n",
       "    <tr>\n",
       "      <th>1</th>\n",
       "      <td>2</td>\n",
       "      <td>https://avcdn.av.by/advertpreview/0000/2115/71...</td>\n",
       "      <td>Peugeot 308 T7</td>\n",
       "      <td>2008 г.механика, 1.6 л, дизель295 819 км</td>\n",
       "      <td>2008</td>\n",
       "      <td>1.6</td>\n",
       "      <td>дизель</td>\n",
       "      <td>механика</td>\n",
       "      <td>295819</td>\n",
       "      <td>/peugeot/308/100264252</td>\n",
       "      <td>14894</td>\n",
       "      <td>5800</td>\n",
       "    </tr>\n",
       "    <tr>\n",
       "      <th>2</th>\n",
       "      <td>3</td>\n",
       "      <td>https://avcdn.av.by/advertpreview/0000/2619/85...</td>\n",
       "      <td>Peugeot 307 I</td>\n",
       "      <td>2004 г.механика, 1.4 л, дизель317 000 км</td>\n",
       "      <td>2004</td>\n",
       "      <td>1.4</td>\n",
       "      <td>дизель</td>\n",
       "      <td>механика</td>\n",
       "      <td>317000</td>\n",
       "      <td>/peugeot/307/100344387</td>\n",
       "      <td>7576</td>\n",
       "      <td>2950</td>\n",
       "    </tr>\n",
       "    <tr>\n",
       "      <th>3</th>\n",
       "      <td>4</td>\n",
       "      <td>https://avcdn.av.by/advertpreview/0000/2513/11...</td>\n",
       "      <td>Peugeot 308 T9</td>\n",
       "      <td>2016 г.механика, 1.6 л, дизель131 000 км</td>\n",
       "      <td>2016</td>\n",
       "      <td>1.6</td>\n",
       "      <td>дизель</td>\n",
       "      <td>механика</td>\n",
       "      <td>131000</td>\n",
       "      <td>/peugeot/308/100293543</td>\n",
       "      <td>29917</td>\n",
       "      <td>11650</td>\n",
       "    </tr>\n",
       "    <tr>\n",
       "      <th>4</th>\n",
       "      <td>5</td>\n",
       "      <td>https://avcdn.av.by/advertpreview/0000/2547/53...</td>\n",
       "      <td>Peugeot 206 I</td>\n",
       "      <td>2005 г.автомат, 1.4 л, бензин132 104 км</td>\n",
       "      <td>2005</td>\n",
       "      <td>1.4</td>\n",
       "      <td>бензин</td>\n",
       "      <td>автомат</td>\n",
       "      <td>132104</td>\n",
       "      <td>/peugeot/206/100332469</td>\n",
       "      <td>5136</td>\n",
       "      <td>2000</td>\n",
       "    </tr>\n",
       "  </tbody>\n",
       "</table>\n",
       "</div>"
      ],
      "text/plain": [
       "   id                                              image  \\\n",
       "0   1  https://avcdn.av.by/advertpreview/0000/2672/74...   \n",
       "1   2  https://avcdn.av.by/advertpreview/0000/2115/71...   \n",
       "2   3  https://avcdn.av.by/advertpreview/0000/2619/85...   \n",
       "3   4  https://avcdn.av.by/advertpreview/0000/2513/11...   \n",
       "4   5  https://avcdn.av.by/advertpreview/0000/2547/53...   \n",
       "\n",
       "                     title                                    params  year  \\\n",
       "0  Peugeot 806 221, 7 мест  1998 г.механика, 2.0 л, бензин300 000 км  1998   \n",
       "1           Peugeot 308 T7  2008 г.механика, 1.6 л, дизель295 819 км  2008   \n",
       "2            Peugeot 307 I  2004 г.механика, 1.4 л, дизель317 000 км  2004   \n",
       "3           Peugeot 308 T9  2016 г.механика, 1.6 л, дизель131 000 км  2016   \n",
       "4            Peugeot 206 I   2005 г.автомат, 1.4 л, бензин132 104 км  2005   \n",
       "\n",
       "   volume  engine transmision   miles                    link  price_ru  \\\n",
       "0     2.0  бензин    механика  300000  /peugeot/806/100352674      7062   \n",
       "1     1.6  дизель    механика  295819  /peugeot/308/100264252     14894   \n",
       "2     1.4  дизель    механика  317000  /peugeot/307/100344387      7576   \n",
       "3     1.6  дизель    механика  131000  /peugeot/308/100293543     29917   \n",
       "4     1.4  бензин     автомат  132104  /peugeot/206/100332469      5136   \n",
       "\n",
       "   price_usd  \n",
       "0       2750  \n",
       "1       5800  \n",
       "2       2950  \n",
       "3      11650  \n",
       "4       2000  "
      ]
     },
     "execution_count": 6,
     "metadata": {},
     "output_type": "execute_result"
    }
   ],
   "source": [
    "## print the top5 records\n",
    "dataset.head()\n"
   ]
  },
  {
   "cell_type": "markdown",
   "id": "9c9721d7",
   "metadata": {},
   "source": [
    "# Missing values"
   ]
  },
  {
   "cell_type": "code",
   "execution_count": 11,
   "id": "8245773c",
   "metadata": {},
   "outputs": [
    {
     "name": "stdout",
     "output_type": "stream",
     "text": [
      "done\n"
     ]
    }
   ],
   "source": [
    "## Here we will check the percentage of nan values present in each feature\n",
    "## 1 -step make the list of features which has missing values\n",
    "features_with_na=[features for features in dataset.columns if dataset[features].isnull().sum()>1]\n",
    "## 2- step print the feature name and the percentage of missing values\n",
    "\n",
    "for feature in features_with_na:\n",
    "    print(feature, np.round(dataset[feature].isnull().mean(), 4),  ' % missing values')\n",
    "    \n",
    "print('done')"
   ]
  },
  {
   "cell_type": "code",
   "execution_count": 14,
   "id": "0aaf620a",
   "metadata": {},
   "outputs": [
    {
     "name": "stdout",
     "output_type": "stream",
     "text": [
      "Id of cars 2598\n"
     ]
    }
   ],
   "source": [
    "print(\"Id of cars {}\".format(len(dataset.id)))\n"
   ]
  },
  {
   "cell_type": "markdown",
   "id": "e795bfb0",
   "metadata": {},
   "source": [
    "# Numerical variables"
   ]
  },
  {
   "cell_type": "code",
   "execution_count": 15,
   "id": "a042454d",
   "metadata": {},
   "outputs": [
    {
     "name": "stdout",
     "output_type": "stream",
     "text": [
      "Number of numerical variables:  6\n"
     ]
    },
    {
     "data": {
      "text/html": [
       "<div>\n",
       "<style scoped>\n",
       "    .dataframe tbody tr th:only-of-type {\n",
       "        vertical-align: middle;\n",
       "    }\n",
       "\n",
       "    .dataframe tbody tr th {\n",
       "        vertical-align: top;\n",
       "    }\n",
       "\n",
       "    .dataframe thead th {\n",
       "        text-align: right;\n",
       "    }\n",
       "</style>\n",
       "<table border=\"1\" class=\"dataframe\">\n",
       "  <thead>\n",
       "    <tr style=\"text-align: right;\">\n",
       "      <th></th>\n",
       "      <th>id</th>\n",
       "      <th>year</th>\n",
       "      <th>volume</th>\n",
       "      <th>miles</th>\n",
       "      <th>price_ru</th>\n",
       "      <th>price_usd</th>\n",
       "    </tr>\n",
       "  </thead>\n",
       "  <tbody>\n",
       "    <tr>\n",
       "      <th>0</th>\n",
       "      <td>1</td>\n",
       "      <td>1998</td>\n",
       "      <td>2.0</td>\n",
       "      <td>300000</td>\n",
       "      <td>7062</td>\n",
       "      <td>2750</td>\n",
       "    </tr>\n",
       "    <tr>\n",
       "      <th>1</th>\n",
       "      <td>2</td>\n",
       "      <td>2008</td>\n",
       "      <td>1.6</td>\n",
       "      <td>295819</td>\n",
       "      <td>14894</td>\n",
       "      <td>5800</td>\n",
       "    </tr>\n",
       "    <tr>\n",
       "      <th>2</th>\n",
       "      <td>3</td>\n",
       "      <td>2004</td>\n",
       "      <td>1.4</td>\n",
       "      <td>317000</td>\n",
       "      <td>7576</td>\n",
       "      <td>2950</td>\n",
       "    </tr>\n",
       "    <tr>\n",
       "      <th>3</th>\n",
       "      <td>4</td>\n",
       "      <td>2016</td>\n",
       "      <td>1.6</td>\n",
       "      <td>131000</td>\n",
       "      <td>29917</td>\n",
       "      <td>11650</td>\n",
       "    </tr>\n",
       "    <tr>\n",
       "      <th>4</th>\n",
       "      <td>5</td>\n",
       "      <td>2005</td>\n",
       "      <td>1.4</td>\n",
       "      <td>132104</td>\n",
       "      <td>5136</td>\n",
       "      <td>2000</td>\n",
       "    </tr>\n",
       "  </tbody>\n",
       "</table>\n",
       "</div>"
      ],
      "text/plain": [
       "   id  year  volume   miles  price_ru  price_usd\n",
       "0   1  1998     2.0  300000      7062       2750\n",
       "1   2  2008     1.6  295819     14894       5800\n",
       "2   3  2004     1.4  317000      7576       2950\n",
       "3   4  2016     1.6  131000     29917      11650\n",
       "4   5  2005     1.4  132104      5136       2000"
      ]
     },
     "execution_count": 15,
     "metadata": {},
     "output_type": "execute_result"
    }
   ],
   "source": [
    "# list of numerical variables\n",
    "numerical_features = [feature for feature in dataset.columns if dataset[feature].dtypes != 'O']\n",
    "\n",
    "print('Number of numerical variables: ', len(numerical_features))\n",
    "\n",
    "# visualise the numerical variables\n",
    "dataset[numerical_features].head()"
   ]
  },
  {
   "cell_type": "code",
   "execution_count": 16,
   "id": "3ea201cd",
   "metadata": {},
   "outputs": [
    {
     "data": {
      "text/plain": [
       "['year']"
      ]
     },
     "execution_count": 16,
     "metadata": {},
     "output_type": "execute_result"
    }
   ],
   "source": [
    "# list of variables that contain year information\n",
    "year_feature = [feature for feature in numerical_features if 'Yr' in feature or 'year' in feature]\n",
    "\n",
    "year_feature"
   ]
  },
  {
   "cell_type": "code",
   "execution_count": 17,
   "id": "9fec1ae5",
   "metadata": {},
   "outputs": [
    {
     "name": "stdout",
     "output_type": "stream",
     "text": [
      "year [1998 2008 2004 2016 2005 2017 2015 2009 2007 2011 2002 2000 2006 2018\n",
      " 2001 1999 2012 1997 2019 1994 2003 1996 2013 2014 2010 1993 1991 1995\n",
      " 1992 1990 1983 1988 1986 1987 1989 2021 2020]\n"
     ]
    }
   ],
   "source": [
    "# let's explore the content of these year variables\n",
    "for feature in year_feature:\n",
    "    print(feature, dataset[feature].unique())"
   ]
  },
  {
   "cell_type": "code",
   "execution_count": 18,
   "id": "1b26b7a7",
   "metadata": {},
   "outputs": [
    {
     "data": {
      "text/plain": [
       "Text(0.5, 1.0, 'Car Price vs Year')"
      ]
     },
     "execution_count": 18,
     "metadata": {},
     "output_type": "execute_result"
    },
    {
     "data": {
      "image/png": "[encoded data removed]",
      "text/plain": [
       "<Figure size 432x288 with 1 Axes>"
      ]
     },
     "metadata": {
      "needs_background": "light"
     },
     "output_type": "display_data"
    }
   ],
   "source": [
    "\n",
    "## Lets analyze the Temporal Datetime Variables\n",
    "## We will check whether there is a relation between year the house is sold and the sales price\n",
    "\n",
    "dataset.groupby('year')['price_usd'].median().plot()\n",
    "plt.xlabel('Year made')\n",
    "plt.ylabel('Median Car Price')\n",
    "plt.title(\"Car Price vs Year\")"
   ]
  },
  {
   "cell_type": "code",
   "execution_count": 19,
   "id": "89471cdc",
   "metadata": {},
   "outputs": [
    {
     "data": {
      "text/plain": [
       "['year']"
      ]
     },
     "execution_count": 19,
     "metadata": {},
     "output_type": "execute_result"
    }
   ],
   "source": [
    "year_feature"
   ]
  },
  {
   "cell_type": "code",
   "execution_count": 23,
   "id": "730233d6",
   "metadata": {},
   "outputs": [
    {
     "data": {
      "image/png": "[encoded data removed]",
      "text/plain": [
       "<Figure size 432x288 with 1 Axes>"
      ]
     },
     "metadata": {
      "needs_background": "light"
     },
     "output_type": "display_data"
    }
   ],
   "source": [
    "## Here we will compare the difference between All years feature with SalePrice\n",
    "\n",
    "for feature in year_feature:\n",
    "    if feature!='YrSold':\n",
    "        data=dataset.copy()\n",
    "        ## We will capture the difference between year variable and year the house was sold for\n",
    "        data[feature]=data['year']-data[feature]\n",
    "\n",
    "        plt.scatter(data[feature],data['price_usd'])\n",
    "        plt.xlabel(feature)\n",
    "        plt.ylabel('SalePrice')\n",
    "        plt.show()"
   ]
  },
  {
   "cell_type": "code",
   "execution_count": 24,
   "id": "2f71f89e",
   "metadata": {},
   "outputs": [
    {
     "name": "stdout",
     "output_type": "stream",
     "text": [
      "Discrete Variables Count: 1\n"
     ]
    }
   ],
   "source": [
    "\n",
    "## Numerical variables are usually of 2 type\n",
    "## 1. Continous variable and Discrete Variables\n",
    "\n",
    "discrete_feature=[feature for feature in numerical_features if len(dataset[feature].unique())<25 and feature not in year_feature+['Id']]\n",
    "print(\"Discrete Variables Count: {}\".format(len(discrete_feature)))"
   ]
  },
  {
   "cell_type": "code",
   "execution_count": 26,
   "id": "9bc63cf4",
   "metadata": {},
   "outputs": [
    {
     "data": {
      "text/html": [
       "<div>\n",
       "<style scoped>\n",
       "    .dataframe tbody tr th:only-of-type {\n",
       "        vertical-align: middle;\n",
       "    }\n",
       "\n",
       "    .dataframe tbody tr th {\n",
       "        vertical-align: top;\n",
       "    }\n",
       "\n",
       "    .dataframe thead th {\n",
       "        text-align: right;\n",
       "    }\n",
       "</style>\n",
       "<table border=\"1\" class=\"dataframe\">\n",
       "  <thead>\n",
       "    <tr style=\"text-align: right;\">\n",
       "      <th></th>\n",
       "      <th>volume</th>\n",
       "    </tr>\n",
       "  </thead>\n",
       "  <tbody>\n",
       "    <tr>\n",
       "      <th>0</th>\n",
       "      <td>2.0</td>\n",
       "    </tr>\n",
       "    <tr>\n",
       "      <th>1</th>\n",
       "      <td>1.6</td>\n",
       "    </tr>\n",
       "    <tr>\n",
       "      <th>2</th>\n",
       "      <td>1.4</td>\n",
       "    </tr>\n",
       "    <tr>\n",
       "      <th>3</th>\n",
       "      <td>1.6</td>\n",
       "    </tr>\n",
       "    <tr>\n",
       "      <th>4</th>\n",
       "      <td>1.4</td>\n",
       "    </tr>\n",
       "  </tbody>\n",
       "</table>\n",
       "</div>"
      ],
      "text/plain": [
       "   volume\n",
       "0     2.0\n",
       "1     1.6\n",
       "2     1.4\n",
       "3     1.6\n",
       "4     1.4"
      ]
     },
     "execution_count": 26,
     "metadata": {},
     "output_type": "execute_result"
    }
   ],
   "source": [
    "dataset[discrete_feature].head()"
   ]
  },
  {
   "cell_type": "code",
   "execution_count": 27,
   "id": "33040677",
   "metadata": {},
   "outputs": [
    {
     "data": {
      "image/png": "[encoded data removed]",
      "text/plain": [
       "<Figure size 432x288 with 1 Axes>"
      ]
     },
     "metadata": {
      "needs_background": "light"
     },
     "output_type": "display_data"
    }
   ],
   "source": [
    "\n",
    "## Lets Find the realtionship between them and Sale PRice\n",
    "\n",
    "for feature in discrete_feature:\n",
    "    data=dataset.copy()\n",
    "    data.groupby(feature)['price_usd'].median().plot.bar()\n",
    "    plt.xlabel(feature)\n",
    "    plt.ylabel('price_usd')\n",
    "    plt.title(feature)\n",
    "    plt.show()"
   ]
  },
  {
   "cell_type": "code",
   "execution_count": 28,
   "id": "ee787f66",
   "metadata": {},
   "outputs": [
    {
     "name": "stdout",
     "output_type": "stream",
     "text": [
      "Continuous feature Count 4\n"
     ]
    }
   ],
   "source": [
    "continuous_feature=[feature for feature in numerical_features if feature not in discrete_feature+year_feature+['Id']]\n",
    "print(\"Continuous feature Count {}\".format(len(continuous_feature)))"
   ]
  },
  {
   "cell_type": "code",
   "execution_count": 29,
   "id": "eb23928d",
   "metadata": {},
   "outputs": [
    {
     "data": {
      "image/png": "[encoded data removed]",
      "text/plain": [
       "<Figure size 432x288 with 1 Axes>"
      ]
     },
     "metadata": {
      "needs_background": "light"
     },
     "output_type": "display_data"
    },
    {
     "data": {
      "image/png": "[encoded data removed]",
      "text/plain": [
       "<Figure size 432x288 with 1 Axes>"
      ]
     },
     "metadata": {
      "needs_background": "light"
     },
     "output_type": "display_data"
    },
    {
     "data": {
      "image/png": "[encoded data removed]",
      "text/plain": [
       "<Figure size 432x288 with 1 Axes>"
      ]
     },
     "metadata": {
      "needs_background": "light"
     },
     "output_type": "display_data"
    },
    {
     "data": {
      "image/png": "[encoded data removed]",
      "text/plain": [
       "<Figure size 432x288 with 1 Axes>"
      ]
     },
     "metadata": {
      "needs_background": "light"
     },
     "output_type": "display_data"
    }
   ],
   "source": [
    "## Lets analyse the continuous values by creating histograms to understand the distribution\n",
    "\n",
    "for feature in continuous_feature:\n",
    "    data=dataset.copy()\n",
    "    data[feature].hist(bins=25)\n",
    "    plt.xlabel(feature)\n",
    "    plt.ylabel(\"Count\")\n",
    "    plt.title(feature)\n",
    "    plt.show()"
   ]
  },
  {
   "cell_type": "code",
   "execution_count": 35,
   "id": "8359991a",
   "metadata": {},
   "outputs": [
    {
     "data": {
      "image/png": "[encoded data removed]",
      "text/plain": [
       "<Figure size 432x288 with 1 Axes>"
      ]
     },
     "metadata": {
      "needs_background": "light"
     },
     "output_type": "display_data"
    },
    {
     "data": {
      "image/png": "[encoded data removed]",
      "text/plain": [
       "<Figure size 432x288 with 1 Axes>"
      ]
     },
     "metadata": {
      "needs_background": "light"
     },
     "output_type": "display_data"
    },
    {
     "data": {
      "image/png": "[encoded data removed]",
      "text/plain": [
       "<Figure size 432x288 with 1 Axes>"
      ]
     },
     "metadata": {
      "needs_background": "light"
     },
     "output_type": "display_data"
    },
    {
     "data": {
      "image/png": "[encoded data removed]",
      "text/plain": [
       "<Figure size 432x288 with 1 Axes>"
      ]
     },
     "metadata": {
      "needs_background": "light"
     },
     "output_type": "display_data"
    }
   ],
   "source": [
    "\n",
    "## We will be using logarithmic transformation\n",
    "\n",
    "\n",
    "for feature in continuous_feature:\n",
    "    data=dataset.copy()\n",
    "#     if 0 in data[feature].unique():\n",
    "#         pass\n",
    "#     else:\n",
    "    data[feature]=np.log(data[feature])\n",
    "    data['price_usd']=np.log(data['price_usd'])\n",
    "    plt.scatter(data[feature],data['price_usd'])\n",
    "    plt.xlabel(feature)\n",
    "    plt.ylabel('price_usd')\n",
    "    plt.title(feature)\n",
    "    plt.show()"
   ]
  },
  {
   "cell_type": "code",
   "execution_count": null,
   "id": "56915801",
   "metadata": {},
   "outputs": [],
   "source": []
  },
  {
   "cell_type": "code",
   "execution_count": null,
   "id": "ffc453d5",
   "metadata": {},
   "outputs": [],
   "source": []
  }
 ],
 "metadata": {
  "kernelspec": {
   "display_name": "Python 3",
   "language": "python",
   "name": "python3"
  },
  "language_info": {
   "codemirror_mode": {
    "name": "ipython",
    "version": 3
   },
   "file_extension": ".py",
   "mimetype": "text/x-python",
   "name": "python",
   "nbconvert_exporter": "python",
   "pygments_lexer": "ipython3",
   "version": "3.8.5"
  }
 },
 "nbformat": 4,
 "nbformat_minor": 5
}
